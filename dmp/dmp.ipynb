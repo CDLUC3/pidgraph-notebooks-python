{
 "metadata": {
  "language_info": {
   "codemirror_mode": {
    "name": "ipython",
    "version": 3
   },
   "file_extension": ".py",
   "mimetype": "text/x-python",
   "name": "python",
   "nbconvert_exporter": "python",
   "pygments_lexer": "ipython3",
   "version": "3.7.5-final"
  },
  "orig_nbformat": 2,
  "kernelspec": {
   "name": "python_defaultSpec_1598443721398",
   "display_name": "Python 3.7.5 64-bit"
  }
 },
 "nbformat": 4,
 "nbformat_minor": 2,
 "cells": [
  {
   "cell_type": "code",
   "execution_count": 1,
   "metadata": {},
   "outputs": [],
   "source": [
    "import json\n",
    "import pandas as pd\n",
    "import numpy as np\n",
    "from dfply import *\n",
    "import altair.vega.v5 as alt\n"
   ]
  },
  {
   "cell_type": "code",
   "execution_count": 2,
   "metadata": {},
   "outputs": [],
   "source": [
    "# Prepare the GraphQL client\n",
    "import requests\n",
    "from IPython.display import display, Markdown\n",
    "from gql import gql, Client\n",
    "from gql.transport.requests import RequestsHTTPTransport\n",
    "\n",
    "_transport = RequestsHTTPTransport(\n",
    "    url='https://api.datacite.org/graphql',\n",
    "    use_json=True,\n",
    ")\n",
    "\n",
    "client = Client(\n",
    "    transport=_transport,\n",
    "    fetch_schema_from_transport=True,\n",
    ")"
   ]
  },
  {
   "cell_type": "code",
   "execution_count": 3,
   "metadata": {},
   "outputs": [],
   "source": [
    "# Generate the GraphQL query to retrieve up to 100 outputs of University of Oxford, with at least 100 views each.\n",
    "query_params = {\n",
    "    \"rorId\" : \"https://ror.org/052gg0110\",\n",
    "    \"maxOutputs\": 100,\n",
    "    \"minViews\" : 100\n",
    "}\n",
    "\n",
    "query = gql(\"\"\"query getOutputs($rorId: ID!, $maxOutputs: Int!, $minViews: Int!)\n",
    "{\n",
    " organization(id: $rorId) {\n",
    "    id\n",
    "    name\n",
    "    alternateName\n",
    "    citationCount\n",
    "    viewCount\n",
    "    downloadCount\n",
    "    works(hasViews: $minViews, first: $maxOutputs) {\n",
    "      totalCount\n",
    "      published {\n",
    "        title\n",
    "        count\n",
    "      }\n",
    "      resourceTypes {\n",
    "        title\n",
    "        count\n",
    "      }\n",
    "      nodes {\n",
    "        id\n",
    "        type\n",
    "        publisher\n",
    "        publicationYear\n",
    "        titles {\n",
    "          title\n",
    "        }\n",
    "        citations {\n",
    "           nodes {\n",
    "             id\n",
    "             titles {\n",
    "                title\n",
    "             }\n",
    "           }\n",
    "        }\n",
    "        creators {\n",
    "          id\n",
    "          name\n",
    "          affiliation {\n",
    "            id\n",
    "            name\n",
    "          }\n",
    "        }\n",
    "        citationCount\n",
    "        viewCount\n",
    "        downloadCount\n",
    "      }\n",
    "    }\n",
    "  }\n",
    "}\n",
    "\"\"\")"
   ]
  },
  {
   "cell_type": "code",
   "execution_count": 4,
   "metadata": {},
   "outputs": [],
   "source": [
    "data = client.execute(query, variable_values=json.dumps(query_params))"
   ]
  },
  {
   "cell_type": "code",
   "execution_count": 5,
   "metadata": {},
   "outputs": [],
   "source": [
    "def get_data():\n",
    "    response_string = '{\"data\":{\"work\":{\"relatedIdentifiers\":[{\"relatedIdentifier\":\"10.5281\\/zenodo.2648713\",\"relatedIdentifierType\":\"DOI\",\"relationType\":\"Cites\"},{\"relatedIdentifier\":\"10.5281\\/zenodo.2648740\",\"relatedIdentifierType\":\"DOI\",\"relationType\":\"Cites\"},{\"relatedIdentifier\":\"10.5281\\/zenodo.2648800\",\"relatedIdentifierType\":\"DOI\",\"relationType\":\"IsSupplementTo\"},{\"relatedIdentifier\":\"10.5281\\/zenodo.2648751\",\"relatedIdentifierType\":\"DOI\",\"relationType\":\"HasVersion\"}],\"creators\":[{\"id\":\"https:\\/\\/orcid.org\\/0000-0002-4537-6648\",\"name\":\"Leidinger, Moritz\",\"affiliation\":[{\"id\":null}]}],\"publisher\":\"Zenodo\",\"identifiers\":[{\"identifier\":\"https:\\/\\/zenodo.org\\/record\\/2648751\",\"identifierType\":\"URL\"}],\"fundingReferences\":null,\"repository\":{\"id\":\"cern.zenodo\",\"re3dataId\":\"10.17616\\/R3QP53\",\"repositoryType\":[\"other\"]},\"citations\":{\"totalCount\":0,\"published\":[],\"nodes\":[]},\"references\":{\"published\":[],\"nodes\":[{ \"id\": \"https://doi.org/10.15468/dl.ojaesd\", \"formattedCitation\": \"Occdownload Gbif.Org. (2015). <i>GBIF Occurrence Download</i> [Data set]. The Global Biodiversity Information Facility. https://doi.org/10.15468/DL.OJAESD</a>\", \"repository\": { \"name\": \"Global Biodiversity Information Facility\", \"re3dataId\": \"10.17616/R3J014\", \"id\": \"gbif.gbif\" }, \"registrationAgency\": { \"name\": null, \"id\": null }, \"member\": { \"name\": \"Global Biodiversity Information Facility\", \"id\": \"gbif\" } }, { \"id\": \"https://doi.org/10.15468/dl.uq8ndo\", \"formattedCitation\": \"Occdownload Gbif.Org. (2018). <i>GBIF Occurrence Download</i> [Data set]. The Global Biodiversity Information Facility. https://doi.org/10.15468/DL.UQ8NDO</a>\", \"repository\": { \"name\": \"Global Biodiversity Information Facility\", \"re3dataId\": \"10.17616/R3J014\", \"id\": \"gbif.gbif\" }, \"registrationAgency\": { \"name\": \"DataCite\", \"id\": \"datacite\" }, \"member\": { \"name\": \"Global Biodiversity Information Facility\", \"id\": \"gbif\" } }]}}}}'\n",
    "    return json.loads(response_string)[\"data\"][\"work\"]"
   ]
  },
  {
   "cell_type": "code",
   "execution_count": 6,
   "metadata": {},
   "outputs": [],
   "source": [
    "def add_node_attributes(dataframe, parent=2):\n",
    "    return (dataframe >>\n",
    "    mutate(\n",
    "    id = X.id,\n",
    "    parent = parent,\n",
    "    ))\n",
    "  "
   ]
  },
  {
   "cell_type": "code",
   "execution_count": 7,
   "metadata": {},
   "outputs": [],
   "source": [
    "def create_node(array, parent=2):\n",
    "    df = add_node_attributes(pd.DataFrame(array,columns=array[1].keys()), parent)\n",
    "    return df.to_dict(orient='records')\n",
    "     "
   ]
  },
  {
   "cell_type": "code",
   "execution_count": 8,
   "metadata": {},
   "outputs": [],
   "source": [
    "def vega_template(data):\n",
    "    return \"\"\"\n",
    "{\n",
    "  \"$schema\": \"https://vega.github.io/schema/vega/v3.json\",\n",
    "  \"description\": \"An example of a radial layout for a node-link diagram of hierarchical data.\",\n",
    "  \"width\": 720,\n",
    "  \"height\": 720,\n",
    "  \"padding\": 5,\n",
    "  \"autosize\": \"none\",\n",
    "  \"signals\": [\n",
    "    {\"name\": \"labels\", \"value\": true, \"bind\": {\"input\": \"checkbox\"}},\n",
    "    {\n",
    "      \"name\": \"radius\",\n",
    "      \"value\": 280,\n",
    "      \"bind\": {\"input\": \"range\", \"min\": 20, \"max\": 600}\n",
    "    },\n",
    "    {\n",
    "      \"name\": \"extent\",\n",
    "      \"value\": 360,\n",
    "      \"bind\": {\"input\": \"range\", \"min\": 0, \"max\": 360, \"step\": 1}\n",
    "    },\n",
    "    {\n",
    "      \"name\": \"rotate\",\n",
    "      \"value\": 0,\n",
    "      \"bind\": {\"input\": \"range\", \"min\": 0, \"max\": 360, \"step\": 1}\n",
    "    },\n",
    "    {\n",
    "      \"name\": \"layout\",\n",
    "      \"value\": \"tidy\",\n",
    "      \"bind\": {\"input\": \"radio\", \"options\": [\"tidy\", \"cluster\"]}\n",
    "    },\n",
    "    {\n",
    "      \"name\": \"links\",\n",
    "      \"value\": \"diagonal\",\n",
    "      \"bind\": {\n",
    "        \"input\": \"select\",\n",
    "        \"options\": [\"line\", \"curve\", \"diagonal\", \"orthogonal\"]\n",
    "      }\n",
    "    },\n",
    "    {\"name\": \"originX\", \"update\": \"width / 2\"},\n",
    "    {\"name\": \"originY\", \"update\": \"height / 2\"}\n",
    "  ],\n",
    "  \"data\": [\n",
    "    {\n",
    "      \"name\": \"tree\",\n",
    "      \"url\": \"\"\" + data + \"\"\",\n",
    "      \"transform\": [\n",
    "        {\"type\": \"stratify\", \"key\": \"id\", \"parentKey\": \"parent\"},\n",
    "        {\n",
    "          \"type\": \"tree\",\n",
    "          \"method\": {\"signal\": \"layout\"},\n",
    "          \"size\": [1, {\"signal\": \"radius\"}],\n",
    "          \"as\": [\"alpha\", \"radius\", \"depth\", \"children\"]\n",
    "        },\n",
    "        {\n",
    "          \"type\": \"formula\",\n",
    "          \"expr\": \"(rotate + extent * datum.alpha + 270) % 360\",\n",
    "          \"as\": \"angle\"\n",
    "        },\n",
    "        {\"type\": \"formula\", \"expr\": \"PI * datum.angle / 180\", \"as\": \"radians\"},\n",
    "        {\n",
    "          \"type\": \"formula\",\n",
    "          \"expr\": \"inrange(datum.angle, [90, 270])\",\n",
    "          \"as\": \"leftside\"\n",
    "        },\n",
    "        {\n",
    "          \"type\": \"formula\",\n",
    "          \"expr\": \"originX + datum.radius * cos(datum.radians)\",\n",
    "          \"as\": \"x\"\n",
    "        },\n",
    "        {\n",
    "          \"type\": \"formula\",\n",
    "          \"expr\": \"originY + datum.radius * sin(datum.radians)\",\n",
    "          \"as\": \"y\"\n",
    "        }\n",
    "      ]\n",
    "    },\n",
    "    {\n",
    "      \"name\": \"links\",\n",
    "      \"source\": \"tree\",\n",
    "      \"transform\": [\n",
    "        {\"type\": \"treelinks\"},\n",
    "        {\n",
    "          \"type\": \"linkpath\",\n",
    "          \"shape\": {\"signal\": \"links\"},\n",
    "          \"orient\": \"radial\",\n",
    "          \"sourceX\": \"source.radians\",\n",
    "          \"sourceY\": \"source.radius\",\n",
    "          \"targetX\": \"target.radians\",\n",
    "          \"targetY\": \"target.radius\"\n",
    "        }\n",
    "      ]\n",
    "    }\n",
    "  ],\n",
    "  \"scales\": [\n",
    "    {\n",
    "      \"name\": \"color\",\n",
    "      \"type\": \"linear\",\n",
    "      \"range\": {\"scheme\": \"viridis\"},\n",
    "      \"domain\": {\"data\": \"tree\", \"field\": \"depth\"},\n",
    "      \"zero\": true\n",
    "    }\n",
    "  ],\n",
    "  \"marks\": [\n",
    "    {\n",
    "      \"type\": \"path\",\n",
    "      \"from\": {\"data\": \"links\"},\n",
    "      \"encode\": {\n",
    "        \"update\": {\n",
    "          \"x\": {\"signal\": \"originX\"},\n",
    "          \"y\": {\"signal\": \"originY\"},\n",
    "          \"path\": {\"field\": \"path\"},\n",
    "          \"stroke\": {\"value\": \"#ccc\"}\n",
    "        }\n",
    "      }\n",
    "    },\n",
    "    {\n",
    "      \"type\": \"symbol\",\n",
    "      \"from\": {\"data\": \"tree\"},\n",
    "      \"encode\": {\n",
    "        \"enter\": {\"size\": {\"value\": 300}, \"stroke\": {\"value\": \"#fff\"}},\n",
    "        \"update\": {\n",
    "          \"x\": {\"field\": \"x\"},\n",
    "          \"y\": {\"field\": \"y\"},\n",
    "          \"fill\": {\"scale\": \"color\", \"field\": \"depth\"}\n",
    "        }\n",
    "      }\n",
    "    },\n",
    "    {\n",
    "      \"type\": \"text\",\n",
    "      \"from\": {\"data\": \"tree\"},\n",
    "      \"encode\": {\n",
    "        \"enter\": {\n",
    "          \"text\": {\"field\": \"name\"},\n",
    "          \"fontSize\": {\"value\": 12},\n",
    "          \"baseline\": {\"value\": \"middle\"}\n",
    "        },\n",
    "        \"update\": {\n",
    "          \"x\": {\"field\": \"x\"},\n",
    "          \"y\": {\"field\": \"y\"},\n",
    "          \"dx\": {\"signal\": \"(datum.leftside ? -1 : 1) * 12\"},\n",
    "          \"align\": {\"signal\": \"datum.leftside ? 'right' : 'left'\"},\n",
    "          \"opacity\": {\"signal\": \"labels ? 1 : 0\"}\n",
    "        }\n",
    "      }\n",
    "    }\n",
    "  ]\n",
    "}\n",
    "\n",
    "\"\"\""
   ]
  },
  {
   "cell_type": "code",
   "execution_count": 9,
   "metadata": {},
   "outputs": [],
   "source": [
    "def merge_nodes(dataset=[],funders=[],orgs=[],people=[]):\n",
    "    dmp = {\"id\":1, \"name\": \"dmp\"}\n",
    "    datasets_node = {\"id\":2, \"name\": \"Datasets\", \"parent\":1}\n",
    "    funders_node = {\"id\":3, \"name\": \"Funders\", \"parent\":1}\n",
    "    organisations_node = {\"id\":4, \"name\": \"Organisations\", \"parent\":1}\n",
    "    people_node = {\"id\":5, \"name\": \"People\", \"parent\":1}\n",
    "    nodes_list = [dmp, datasets_node, funders_node,organisations_node,people_node] + dataset + funders + orgs + people\n",
    "    return np.array(nodes_list, dtype=object)"
   ]
  },
  {
   "cell_type": "code",
   "execution_count": 10,
   "metadata": {},
   "outputs": [
    {
     "output_type": "execute_result",
     "data": {
      "text/plain": "array([{'id': 1, 'name': 'dmp'},\n       {'id': 2, 'name': 'Datasets', 'parent': 1},\n       {'id': 3, 'name': 'Funders', 'parent': 1},\n       {'id': 4, 'name': 'Organisations', 'parent': 1},\n       {'id': 5, 'name': 'People', 'parent': 1},\n       {'id': 'https://doi.org/10.15468/dl.ojaesd', 'formattedCitation': 'Occdownload Gbif.Org. (2015). <i>GBIF Occurrence Download</i> [Data set]. The Global Biodiversity Information Facility. https://doi.org/10.15468/DL.OJAESD</a>', 'repository': {'name': 'Global Biodiversity Information Facility', 're3dataId': '10.17616/R3J014', 'id': 'gbif.gbif'}, 'registrationAgency': {'name': None, 'id': None}, 'member': {'name': 'Global Biodiversity Information Facility', 'id': 'gbif'}, 'parent': 2},\n       {'id': 'https://doi.org/10.15468/dl.uq8ndo', 'formattedCitation': 'Occdownload Gbif.Org. (2018). <i>GBIF Occurrence Download</i> [Data set]. The Global Biodiversity Information Facility. https://doi.org/10.15468/DL.UQ8NDO</a>', 'repository': {'name': 'Global Biodiversity Information Facility', 're3dataId': '10.17616/R3J014', 'id': 'gbif.gbif'}, 'registrationAgency': {'name': 'DataCite', 'id': 'datacite'}, 'member': {'name': 'Global Biodiversity Information Facility', 'id': 'gbif'}, 'parent': 2}],\n      dtype=object)"
     },
     "metadata": {},
     "execution_count": 10
    }
   ],
   "source": [
    "merge_nodes(create_node(get_data()[\"references\"][\"nodes\"]))"
   ]
  },
  {
   "cell_type": "markdown",
   "metadata": {},
   "source": [
    "## Create Node Structure\n",
    "\n"
   ]
  },
  {
   "cell_type": "code",
   "execution_count": 11,
   "metadata": {},
   "outputs": [
    {
     "output_type": "display_data",
     "data": {
      "application/vnd.vega.v5+json": {
       "$schema": "https://vega.github.io/schema/vega/v3.json",
       "description": "An example of a radial layout for a node-link diagram of hierarchical data.",
       "width": 720,
       "height": 720,
       "padding": 5,
       "autosize": "none",
       "signals": [
        {
         "name": "labels",
         "value": true,
         "bind": {
          "input": "checkbox"
         }
        },
        {
         "name": "radius",
         "value": 280,
         "bind": {
          "input": "range",
          "min": 20,
          "max": 600
         }
        },
        {
         "name": "extent",
         "value": 360,
         "bind": {
          "input": "range",
          "min": 0,
          "max": 360,
          "step": 1
         }
        },
        {
         "name": "rotate",
         "value": 0,
         "bind": {
          "input": "range",
          "min": 0,
          "max": 360,
          "step": 1
         }
        },
        {
         "name": "layout",
         "value": "tidy",
         "bind": {
          "input": "radio",
          "options": [
           "tidy",
           "cluster"
          ]
         }
        },
        {
         "name": "links",
         "value": "diagonal",
         "bind": {
          "input": "select",
          "options": [
           "line",
           "curve",
           "diagonal",
           "orthogonal"
          ]
         }
        },
        {
         "name": "originX",
         "update": "width / 2"
        },
        {
         "name": "originY",
         "update": "height / 2"
        }
       ],
       "data": [
        {
         "name": "tree",
         "url": "https://gist.githubusercontent.com/kjgarza/f348f7566c6ff7950ffed8f5ae8d10a6/raw/ce0fff999a9c660a3f0e4c39fc3c19b7636e59ac/flare.json",
         "transform": [
          {
           "type": "stratify",
           "key": "id",
           "parentKey": "parent"
          },
          {
           "type": "tree",
           "method": {
            "signal": "layout"
           },
           "size": [
            1,
            {
             "signal": "radius"
            }
           ],
           "as": [
            "alpha",
            "radius",
            "depth",
            "children"
           ]
          },
          {
           "type": "formula",
           "expr": "(rotate + extent * datum.alpha + 270) % 360",
           "as": "angle"
          },
          {
           "type": "formula",
           "expr": "PI * datum.angle / 180",
           "as": "radians"
          },
          {
           "type": "formula",
           "expr": "inrange(datum.angle, [90, 270])",
           "as": "leftside"
          },
          {
           "type": "formula",
           "expr": "originX + datum.radius * cos(datum.radians)",
           "as": "x"
          },
          {
           "type": "formula",
           "expr": "originY + datum.radius * sin(datum.radians)",
           "as": "y"
          }
         ]
        },
        {
         "name": "links",
         "source": "tree",
         "transform": [
          {
           "type": "treelinks"
          },
          {
           "type": "linkpath",
           "shape": {
            "signal": "links"
           },
           "orient": "radial",
           "sourceX": "source.radians",
           "sourceY": "source.radius",
           "targetX": "target.radians",
           "targetY": "target.radius"
          }
         ]
        }
       ],
       "scales": [
        {
         "name": "color",
         "type": "linear",
         "range": {
          "scheme": "viridis"
         },
         "domain": {
          "data": "tree",
          "field": "depth"
         },
         "zero": true
        }
       ],
       "marks": [
        {
         "type": "path",
         "from": {
          "data": "links"
         },
         "encode": {
          "update": {
           "x": {
            "signal": "originX"
           },
           "y": {
            "signal": "originY"
           },
           "path": {
            "field": "path"
           },
           "stroke": {
            "value": "#ccc"
           }
          }
         }
        },
        {
         "type": "symbol",
         "from": {
          "data": "tree"
         },
         "encode": {
          "enter": {
           "size": {
            "value": 300
           },
           "stroke": {
            "value": "#fff"
           }
          },
          "update": {
           "x": {
            "field": "x"
           },
           "y": {
            "field": "y"
           },
           "fill": {
            "scale": "color",
            "field": "depth"
           }
          }
         }
        },
        {
         "type": "text",
         "from": {
          "data": "tree"
         },
         "encode": {
          "enter": {
           "text": {
            "field": "name"
           },
           "fontSize": {
            "value": 12
           },
           "baseline": {
            "value": "middle"
           }
          },
          "update": {
           "x": {
            "field": "x"
           },
           "y": {
            "field": "y"
           },
           "dx": {
            "signal": "(datum.leftside ? -1 : 1) * 12"
           },
           "align": {
            "signal": "datum.leftside ? 'right' : 'left'"
           },
           "opacity": {
            "signal": "labels ? 1 : 0"
           }
          }
         }
        }
       ]
      },
      "text/plain": "<Vega 5 object>\n\nIf you see this message, it means the renderer has not been properly enabled\nfor the frontend that you are using. For more information, see\nhttps://altair-viz.github.io/user_guide/troubleshooting.html\n"
     },
     "metadata": {}
    }
   ],
   "source": [
    "alt.vega(json.loads(vega_template('\"https://gist.githubusercontent.com/kjgarza/f348f7566c6ff7950ffed8f5ae8d10a6/raw/ce0fff999a9c660a3f0e4c39fc3c19b7636e59ac/flare.json\"')))"
   ]
  },
  {
   "cell_type": "code",
   "execution_count": null,
   "metadata": {},
   "outputs": [],
   "source": []
  },
  {
   "cell_type": "code",
   "execution_count": null,
   "metadata": {},
   "outputs": [],
   "source": []
  }
 ]
}