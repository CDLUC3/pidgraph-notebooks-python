{
  "cells": [
    {
      "cell_type": "markdown",
      "source": [
        "# Organisation/Funder/Repository Data Management Plans statistics\n",
        "\n",
        "Data management plans (DMPs) are documents accompanying research proposals and project outputs. DMPs are created as free-form text and describe the data and tools employed in scientific investigations. They are often seen as an administrative exercise and not as an integral part of research practice.  Machine Actionable DMPs (maDMPs) take the DMP concept further by using PIDs and PIDs services to connected all resources associated with the DMPs.\n",
        "\n",
        "\n",
        "This notebook displays in a human-friendly way all DMPs statistics for a Research Organisation, Funder and/or Repository. By the end of this notebook, you will be able to succinctly display all the DMPs stats to a organization, a funder and a repository. To demostrate this we use the Funder **Europoean Commision (EC)**. In the summary statistics you will find a row for each DMP of the EC. Each row includes the title of the DMP, its persistent identifier (PID), number of related datasets, and the people, research organizations and funders involved.\n",
        "\n",
        "\n",
        "The process of displaying the DMP stats is very simple. First, and after a initial setup, we fetch all the data we need from the DataCite GraphQL API. Then, we transform this data into a data structure that can be used for computation. Finally, we take the data tranformation and supply it to a table.\n",
        "\n",
        "\n"
      ],
      "metadata": {}
    },
    {
      "cell_type": "code",
      "source": [
        "%%capture\n",
        "# Install required Python packages\n",
        "!pip install dfply"
      ],
      "outputs": [],
      "execution_count": null,
      "metadata": {}
    },
    {
      "cell_type": "code",
      "source": [
        "import json\n",
        "import pandas as pd\n",
        "import numpy as np\n",
        "from dfply import *\n"
      ],
      "outputs": [],
      "execution_count": null,
      "metadata": {}
    },
    {
      "cell_type": "code",
      "source": [
        "# Prepare the GraphQL client\n",
        "import requests\n",
        "from IPython.display import display, Markdown\n",
        "from gql import gql, Client\n",
        "from gql.transport.requests import RequestsHTTPTransport\n",
        "\n",
        "_transport = RequestsHTTPTransport(\n",
        "    url='https://api.datacite.org/graphql',\n",
        "    use_json=True,\n",
        ")\n",
        "\n",
        "client = Client(\n",
        "    transport=_transport,\n",
        "    fetch_schema_from_transport=True,\n",
        ")"
      ],
      "outputs": [],
      "execution_count": null,
      "metadata": {}
    },
    {
      "cell_type": "markdown",
      "source": [
        "## Fetching Data\n",
        "\n",
        "We obtain all the data from the DataCite GraphQL API.\n"
      ],
      "metadata": {}
    },
    {
      "cell_type": "code",
      "source": [
        " # Generate the GraphQL query to retrieve data from organization European Commission, funder European Commission and repository Zenodo.\n",
        "query_params = {\n",
        "    \"rorId\" : \"https://ror.org/00k4n6c32\",\n",
        "    \"funderId\" : \"https://doi.org/10.13039/501100000780\",\n",
        "    \"repositoryId\" : \"cern.zenodo\"\n",
        "}\n",
        "\n",
        "organizationQuery = gql(\"\"\"query getOutputs($rorId: ID!)\n",
        "{\n",
        "  organization(id: $rorId) {\n",
        "    name\n",
        "    dataManagementPlans {\n",
        "      totalCount\n",
        "      nodes {\n",
        "        id\n",
        "        title: titles(first: 1) {\n",
        "          title\n",
        "        }\n",
        "        datasets: references(resourceTypeId: \"dataset\") {\n",
        "          totalCount\n",
        "          nodes {\n",
        "            id: doi\n",
        "            name: titles(first: 1) {\n",
        "              title\n",
        "            }\n",
        "          }\n",
        "        }\n",
        "        organizations: contributors(contributorType: \"HostingInstitution\") {\n",
        "          id\n",
        "          name\n",
        "        }\n",
        "        funders: fundingReferences {\n",
        "          id: funderIdentifier\n",
        "          funderIdentifierType\n",
        "          name: funderName\n",
        "        }\n",
        "        people: creators {\n",
        "          id\n",
        "          name\n",
        "          affiliation {\n",
        "            id\n",
        "          }\n",
        "        }\n",
        "      }\n",
        "    }\n",
        "  }\n",
        "}\n",
        "\"\"\")\n",
        "\n",
        "funderQuery = gql(\"\"\"query getOutputs($funderId: ID!)\n",
        "{\n",
        "  funder(id: $funderId) {\n",
        "    name\n",
        "    dataManagementPlans {\n",
        "      totalCount\n",
        "      nodes {\n",
        "        id\n",
        "        title: titles(first: 1) {\n",
        "          title\n",
        "        }\n",
        "        datasets: references(resourceTypeId: \"dataset\") {\n",
        "          totalCount\n",
        "          nodes {\n",
        "            id: doi\n",
        "            name: titles(first: 1) {\n",
        "              title\n",
        "            }\n",
        "          }\n",
        "        }\n",
        "        organizations: contributors(contributorType: \"HostingInstitution\") {\n",
        "          id\n",
        "          name\n",
        "        }\n",
        "        funders: fundingReferences {\n",
        "          id: funderIdentifier\n",
        "          funderIdentifierType\n",
        "          name: funderName\n",
        "        }\n",
        "        people: creators {\n",
        "          id\n",
        "          name\n",
        "          affiliation {\n",
        "            id\n",
        "          }\n",
        "        }\n",
        "      }\n",
        "    }\n",
        "  }\n",
        "}\n",
        "\"\"\")\n",
        "\n",
        "repositoryQuery = gql(\"\"\"query getOutputs($repositoryId: ID!)\n",
        "{\n",
        "  repository(id: $repositoryId) {\n",
        "    name\n",
        "    dataManagementPlans {\n",
        "      totalCount\n",
        "      nodes {\n",
        "        id\n",
        "        title: titles(first: 1) {\n",
        "          title\n",
        "        }\n",
        "        datasets: references(resourceTypeId: \"dataset\") {\n",
        "          totalCount\n",
        "          nodes {\n",
        "            id: doi\n",
        "            name: titles(first: 1) {\n",
        "              title\n",
        "            }\n",
        "          }\n",
        "        }\n",
        "        organizations: contributors(contributorType: \"HostingInstitution\") {\n",
        "          id\n",
        "          name\n",
        "        }\n",
        "        funders: fundingReferences {\n",
        "          id: funderIdentifier\n",
        "          funderIdentifierType\n",
        "          name: funderName\n",
        "        }\n",
        "        people: creators {\n",
        "          id\n",
        "          name\n",
        "          affiliation {\n",
        "            id\n",
        "          }\n",
        "        }\n",
        "      }\n",
        "    }\n",
        "  }\n",
        "}\n",
        "\"\"\")\n",
        " "
      ],
      "outputs": [],
      "execution_count": null,
      "metadata": {}
    },
    {
      "cell_type": "code",
      "source": [
        "# name=select()\n"
      ],
      "outputs": [],
      "execution_count": null,
      "metadata": {}
    },
    {
      "cell_type": "code",
      "source": [
        "# import ipywidgets as widgets\n",
        "# from ipywidgets import interact, interact_manual\n"
      ],
      "outputs": [],
      "execution_count": null,
      "metadata": {}
    },
    {
      "cell_type": "code",
      "source": [
        "# @interact\n",
        "# def select_dmp(column=['https://ror.org/00k4n6c32', 'views', 'fans', 'reads']):\n",
        "#     return column"
      ],
      "outputs": [],
      "execution_count": null,
      "metadata": {}
    },
    {
      "cell_type": "code",
      "source": [
        "def get_data(type):\n",
        "    if type == \"organization\":\n",
        "        return client.execute(organizationQuery, variable_values=json.dumps(query_params))[\"organization\"]\n",
        "    elif type == \"funder\":\n",
        "        return client.execute(funderQuery, variable_values=json.dumps(query_params))[\"funder\"]\n",
        "    else:\n",
        "        return client.execute(repositoryQuery, variable_values=json.dumps(query_params))[\"repository\"]\n"
      ],
      "outputs": [],
      "execution_count": null,
      "metadata": {}
    },
    {
      "cell_type": "markdown",
      "source": [
        "## Data Transformation\n",
        "\n",
        "Simple transformations are performed to convert the graphql response into an array that can be used.."
      ],
      "metadata": {}
    },
    {
      "cell_type": "code",
      "source": [
        "def get_series_size(series_element):\n",
        "    return len(series_element)"
      ],
      "outputs": [],
      "execution_count": null,
      "metadata": {}
    },
    {
      "cell_type": "code",
      "source": [
        "def get_dataset_nodes(series_element):\n",
        "    return series_element['nodes']"
      ],
      "outputs": [],
      "execution_count": null,
      "metadata": {}
    },
    {
      "cell_type": "code",
      "source": [
        "def get_title(series_element):\n",
        "    return series_element[0]['title']"
      ],
      "outputs": [],
      "execution_count": null,
      "metadata": {}
    },
    {
      "cell_type": "code",
      "source": [
        "def transform_dmps(dataframe):\n",
        "    \"\"\"Modifies each item to include attributes needed for the node visulisation\n",
        "\n",
        "    Parameters:\n",
        "    dataframe (dataframe): A dataframe with all the itemss\n",
        "    parent (int): The id of the parent node\n",
        "\n",
        "    Returns:\n",
        "    dataframe:Returning vthe same dataframe with new attributes\n",
        "\n",
        "   \"\"\"\n",
        "    if (dataframe) is None:\n",
        "        return pd.DataFrame() \n",
        "    else: \n",
        "        dataframe = (dataframe >>\n",
        "        mutate(\n",
        "            datasets = X.datasets.apply(get_dataset_nodes)\n",
        "        ))\n",
        "\n",
        "        return (dataframe >>\n",
        "        mutate(\n",
        "            dmp = X.title.apply(get_title),\n",
        "            doi = X.id,\n",
        "            datasets = X.datasets.apply(get_series_size),\n",
        "            organizations = X.organizations.apply(get_series_size),\n",
        "            funders = X.funders.apply(get_series_size),\n",
        "            people = X.people.apply(get_series_size)\n",
        "        ))\n",
        "  "
      ],
      "outputs": [],
      "execution_count": null,
      "metadata": {}
    },
    {
      "cell_type": "code",
      "source": [
        "def processTable(type):\n",
        "    data = get_data(type)\n",
        "    if len(data[\"dataManagementPlans\"]['nodes']) == 0:\n",
        "        table = None\n",
        "    else:\n",
        "        table = pd.DataFrame(data[\"dataManagementPlans\"]['nodes'],columns=data[\"dataManagementPlans\"]['nodes'][0].keys())\n",
        "    return transform_dmps(table)[list(('dmp', 'doi','datasets','organizations','funders','people'))].style.set_caption(data['name'])"
      ],
      "outputs": [],
      "execution_count": null,
      "metadata": {}
    },
    {
      "cell_type": "code",
      "source": [
        "organization = processTable(\"organization\")\n",
        "funder = processTable(\"funder\")\n",
        "repository = processTable(\"repository\")"
      ],
      "outputs": [],
      "execution_count": null,
      "metadata": {
        "tags": []
      }
    },
    {
      "cell_type": "code",
      "source": [
        "organization"
      ],
      "outputs": [],
      "execution_count": null,
      "metadata": {}
    },
    {
      "cell_type": "code",
      "source": [
        "funder"
      ],
      "outputs": [],
      "execution_count": null,
      "metadata": {}
    },
    {
      "cell_type": "code",
      "source": [
        "repository"
      ],
      "outputs": [],
      "execution_count": null,
      "metadata": {}
    }
  ],
  "metadata": {
    "language_info": {
      "codemirror_mode": {
        "name": "ipython",
        "version": 3
      },
      "file_extension": ".py",
      "mimetype": "text/x-python",
      "name": "python",
      "nbconvert_exporter": "python",
      "pygments_lexer": "ipython3",
      "version": "3.8.5-final"
    },
    "orig_nbformat": 2,
    "kernelspec": {
      "name": "python_defaultSpec_1600087521553",
      "display_name": "Python 3.7.5 64-bit"
    },
    "nteract": {
      "version": "0.25.0"
    }
  },
  "nbformat": 4,
  "nbformat_minor": 2
}