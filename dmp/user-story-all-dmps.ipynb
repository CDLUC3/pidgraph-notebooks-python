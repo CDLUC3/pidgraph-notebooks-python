{
 "metadata": {
  "language_info": {
   "codemirror_mode": {
    "name": "ipython",
    "version": 3
   },
   "file_extension": ".py",
   "mimetype": "text/x-python",
   "name": "python",
   "nbconvert_exporter": "python",
   "pygments_lexer": "ipython3",
   "version": "3.8.5-final"
  },
  "orig_nbformat": 2,
  "kernelspec": {
   "name": "python_defaultSpec_1600087521553",
   "display_name": "Python 3.7.5 64-bit"
  }
 },
 "nbformat": 4,
 "nbformat_minor": 2,
 "cells": [
  {
   "cell_type": "markdown",
   "metadata": {},
   "source": [
    "# Organisation/Funder/Repository Data Management Plans statistics\n",
    "\n",
    "Data management plans (DMPs) are documents accompanying research proposals and project outputs. DMPs are created as free-form text and describe the data and tools employed in scientific investigations. They are often seen as an administrative exercise and not as an integral part of research practice.  Machine Actionable DMPs (maDMPs) takes the DMP concept further by using PIDs and PIDs services to connected al resources associated with the DMPs.\n",
    "\n",
    "\n",
    "This notebook displays in a human-friendly all DMPs statistics for an Organisation, Funder and/or Repository. By the end of this notebook, you will be able to succinctly display all the DMPs stats to a organization, a funder and a repository. To demostrate this we use the **Europoean Commision**  that can be both an Organization (https://ror.org/00k4n6c32) or a Funder (https://doi.org/10.13039/501100000780). In the summary statistics you will find a row for each DMP of the EC. Each row includes the title of the DMP, its PID, number of datasets related, people involved, organizations and funders.\n",
    "\n",
    "\n",
    "The process of displaying the DMP stats is very simple. First, and after a initial setup, we fetch all the we need from the DataCite GraphQL API. Then, we transform this data into a data structure that can be use for computation. Finally, we take the data tranformation and supply it to a table.\n",
    "\n",
    "\n"
   ]
  },
  {
   "cell_type": "code",
   "execution_count": 41,
   "metadata": {},
   "outputs": [],
   "source": [
    "%%capture\n",
    "# Install required Python packages\n",
    "!pip install dfply"
   ]
  },
  {
   "cell_type": "code",
   "execution_count": 194,
   "metadata": {},
   "outputs": [],
   "source": [
    "import json\n",
    "import pandas as pd\n",
    "import numpy as np\n",
    "from dfply import *\n"
   ]
  },
  {
   "cell_type": "code",
   "execution_count": 210,
   "metadata": {},
   "outputs": [],
   "source": [
    "# Prepare the GraphQL client\n",
    "import requests\n",
    "from IPython.display import display, Markdown\n",
    "from gql import gql, Client\n",
    "from gql.transport.requests import RequestsHTTPTransport\n",
    "\n",
    "_transport = RequestsHTTPTransport(\n",
    "    url='https://api.datacite.org/graphql',\n",
    "    use_json=True,\n",
    ")\n",
    "\n",
    "client = Client(\n",
    "    transport=_transport,\n",
    "    fetch_schema_from_transport=True,\n",
    ")"
   ]
  },
  {
   "cell_type": "markdown",
   "metadata": {},
   "source": [
    "## Fetching Data\n",
    "\n",
    "We obtain all the data from the DataCite GraphQL API.\n"
   ]
  },
  {
   "cell_type": "code",
   "execution_count": 384,
   "metadata": {},
   "outputs": [],
   "source": [
    " # Generate the GraphQL query to retrieve up to 100 outputs of University of Oxford, with at least 100 views each.\n",
    "query_params = {\n",
    "    \"rorId\" : \"https://ror.org/00k4n6c32\",\n",
    "    \"funderId\" : \"https://doi.org/10.13039/501100000780\",\n",
    "    \"repositoryId\" : \"cern.zenodo\"\n",
    "}\n",
    "\n",
    "organizationQuery = gql(\"\"\"query getOutputs($rorId: ID!)\n",
    "{\n",
    "  organization(id: $rorId) {\n",
    "    name\n",
    "    dataManagementPlans(first: 200) {\n",
    "      totalCount\n",
    "      nodes {\n",
    "        id\n",
    "        title: titles(first: 1) {\n",
    "          title\n",
    "        }\n",
    "        datasets: references(resourceTypeId: \"dataset\") {\n",
    "          totalCount\n",
    "          nodes {\n",
    "            id: doi\n",
    "            name: titles(first: 1) {\n",
    "              title\n",
    "            }\n",
    "          }\n",
    "        }\n",
    "        hostingInstitution: contributors(contributorType: \"HostingInstitution\") {\n",
    "          id\n",
    "          name\n",
    "          affiliation {\n",
    "            id\n",
    "          }\n",
    "        }\n",
    "        producer: contributors(contributorType: \"Producer\") {\n",
    "          id\n",
    "          name\n",
    "          affiliation {\n",
    "            id\n",
    "          }\n",
    "        }\n",
    "        funders: fundingReferences {\n",
    "          id: funderIdentifier\n",
    "          funderIdentifierType\n",
    "          name: funderName\n",
    "        }\n",
    "        people: creators {\n",
    "          id\n",
    "          name\n",
    "          affiliation {\n",
    "            id\n",
    "          }\n",
    "        }\n",
    "      }\n",
    "    }\n",
    "  }\n",
    "}\n",
    "\"\"\")\n",
    "\n",
    "funderQuery = gql(\"\"\"query getOutputs($funderId: ID!)\n",
    "{\n",
    "  funder(id: $funderId) {\n",
    "    name\n",
    "    dataManagementPlans(first: 200) {\n",
    "      totalCount\n",
    "      nodes {\n",
    "        id\n",
    "        title: titles(first: 1) {\n",
    "          title\n",
    "        }\n",
    "        datasets: references(resourceTypeId: \"dataset\") {\n",
    "          totalCount\n",
    "          nodes {\n",
    "            id: doi\n",
    "            name: titles(first: 1) {\n",
    "              title\n",
    "            }\n",
    "          }\n",
    "        }\n",
    "        hostingInstitution: contributors(contributorType: \"HostingInstitution\") {\n",
    "          id\n",
    "          name\n",
    "          affiliation {\n",
    "            id\n",
    "          }\n",
    "        }\n",
    "        producer: contributors(contributorType: \"Producer\") {\n",
    "          id\n",
    "          name\n",
    "          affiliation {\n",
    "            id\n",
    "          }\n",
    "        }\n",
    "        funders: fundingReferences {\n",
    "          id: funderIdentifier\n",
    "          funderIdentifierType\n",
    "          name: funderName\n",
    "        }\n",
    "        people: creators {\n",
    "          id\n",
    "          name\n",
    "          affiliation {\n",
    "            id\n",
    "          }\n",
    "        }\n",
    "      }\n",
    "    }\n",
    "  }\n",
    "}\n",
    "\"\"\")\n",
    "\n",
    "repositoryQuery = gql(\"\"\"query getOutputs($repositoryId: ID!)\n",
    "{\n",
    "  repository(id: $repositoryId) {\n",
    "    name\n",
    "    dataManagementPlans(first: 200) {\n",
    "      totalCount\n",
    "      nodes {\n",
    "        id\n",
    "        title: titles(first: 1) {\n",
    "          title\n",
    "        }\n",
    "        datasets: references(resourceTypeId: \"dataset\") {\n",
    "          totalCount\n",
    "          nodes {\n",
    "            id: doi\n",
    "            name: titles(first: 1) {\n",
    "              title\n",
    "            }\n",
    "          }\n",
    "        }\n",
    "        hostingInstitution: contributors(contributorType: \"HostingInstitution\") {\n",
    "          id\n",
    "          name\n",
    "          affiliation {\n",
    "            id\n",
    "          }\n",
    "        }\n",
    "        producer: contributors(contributorType: \"Producer\") {\n",
    "          id\n",
    "          name\n",
    "          affiliation {\n",
    "            id\n",
    "          }\n",
    "        }\n",
    "        funders: fundingReferences {\n",
    "          id: funderIdentifier\n",
    "          funderIdentifierType\n",
    "          name: funderName\n",
    "        }\n",
    "        people: creators {\n",
    "          id\n",
    "          name\n",
    "          affiliation {\n",
    "            id\n",
    "          }\n",
    "        }\n",
    "      }\n",
    "    }\n",
    "  }\n",
    "}\n",
    "\"\"\")\n",
    " "
   ]
  },
  {
   "cell_type": "code",
   "execution_count": 385,
   "metadata": {},
   "outputs": [],
   "source": [
    "# name=select()\n"
   ]
  },
  {
   "cell_type": "code",
   "execution_count": 386,
   "metadata": {},
   "outputs": [],
   "source": [
    "# import ipywidgets as widgets\n",
    "# from ipywidgets import interact, interact_manual\n"
   ]
  },
  {
   "cell_type": "code",
   "execution_count": 387,
   "metadata": {},
   "outputs": [],
   "source": [
    "# @interact\n",
    "# def select_dmp(column=['https://ror.org/00k4n6c32', 'views', 'fans', 'reads']):\n",
    "#     return column"
   ]
  },
  {
   "cell_type": "code",
   "execution_count": 388,
   "metadata": {},
   "outputs": [],
   "source": [
    "def get_data(type):\n",
    "    if type == \"organization\":\n",
    "        return client.execute(organizationQuery, variable_values=json.dumps(query_params))[\"organization\"]\n",
    "    elif type == \"funder\":\n",
    "        return client.execute(funderQuery, variable_values=json.dumps(query_params))[\"funder\"]\n",
    "    else:\n",
    "        return client.execute(repositoryQuery, variable_values=json.dumps(query_params))[\"repository\"]\n"
   ]
  },
  {
   "cell_type": "markdown",
   "metadata": {},
   "source": [
    "## Data Transformation\n",
    "\n",
    "Simple transformations are performed to convert the graphql response into an array that can be used.."
   ]
  },
  {
   "cell_type": "code",
   "execution_count": 389,
   "metadata": {},
   "outputs": [],
   "source": [
    "def get_series_size(series_element):\n",
    "    return len(series_element)"
   ]
  },
  {
   "cell_type": "code",
   "execution_count": 390,
   "metadata": {},
   "outputs": [],
   "source": [
    "def get_dataset_nodes(series_element):\n",
    "    return series_element['nodes']"
   ]
  },
  {
   "cell_type": "code",
   "execution_count": 391,
   "metadata": {},
   "outputs": [],
   "source": [
    "def get_title(series_element):\n",
    "    return series_element[0]['title']"
   ]
  },
  {
   "cell_type": "code",
   "execution_count": 392,
   "metadata": {},
   "outputs": [],
   "source": [
    "def transform_dmps(dataframe):\n",
    "    \"\"\"Modifies each item to include attributes needed for the node visulisation\n",
    "\n",
    "    Parameters:\n",
    "    dataframe (dataframe): A dataframe with all the itemss\n",
    "    parent (int): The id of the parent node\n",
    "\n",
    "    Returns:\n",
    "    dataframe:Returning vthe same dataframe with new attributes\n",
    "\n",
    "   \"\"\"\n",
    "    if (dataframe) is None:\n",
    "        return pd.DataFrame() \n",
    "    else: \n",
    "        dataframe = (dataframe >>\n",
    "        mutate(\n",
    "            datasets = X.datasets.apply(get_dataset_nodes)\n",
    "        ))\n",
    "\n",
    "        return (dataframe >>\n",
    "        mutate(\n",
    "            dmp = X.title.apply(get_title),\n",
    "            doi = X.id,\n",
    "            datasets = X.datasets.apply(get_series_size),\n",
    "            hostingInstitution = X.hostingInstitution.apply(get_series_size),\n",
    "            producer = X.producer.apply(get_series_size),\n",
    "            funders = X.funders.apply(get_series_size),\n",
    "            people = X.people.apply(get_series_size)\n",
    "        ) >>\n",
    "        filter_by(\n",
    "            X.hostingInstitution > 0\n",
    "        )\n",
    "        )\n",
    "  "
   ]
  },
  {
   "cell_type": "code",
   "execution_count": 393,
   "metadata": {},
   "outputs": [],
   "source": [
    "def processTable(type):\n",
    "    data = get_data(type)\n",
    "    if len(data[\"dataManagementPlans\"]['nodes']) == 0:\n",
    "        return None\n",
    "    else:\n",
    "        table = pd.DataFrame(data[\"dataManagementPlans\"]['nodes'],columns=data[\"dataManagementPlans\"]['nodes'][0].keys())\n",
    "    print(transform_dmps(table))\n",
    "    return transform_dmps(table)[list(('dmp', 'doi','datasets','hostingInstitution','producer','funders','people'))].style.set_caption(data['name'])"
   ]
  },
  {
   "cell_type": "code",
   "execution_count": 380,
   "metadata": {
    "tags": []
   },
   "outputs": [
    {
     "output_type": "stream",
     "name": "stdout",
     "text": "Empty DataFrame\nColumns: [id, title, datasets, hostingInstitution, producer, funders, people, dmp, doi]\nIndex: []\nEmpty DataFrame\nColumns: [id, title, datasets, hostingInstitution, producer, funders, people, dmp, doi]\nIndex: []\nEmpty DataFrame\nColumns: [id, title, datasets, hostingInstitution, producer, funders, people, dmp, doi]\nIndex: []\n"
    }
   ],
   "source": [
    "organization = processTable(\"organization\")\n",
    "funder = processTable(\"funder\")\n",
    "repository = processTable(\"repository\")"
   ]
  },
  {
   "cell_type": "code",
   "execution_count": 381,
   "metadata": {},
   "outputs": [
    {
     "output_type": "execute_result",
     "data": {
      "text/plain": "<pandas.io.formats.style.Styler at 0x1160a1310>",
      "text/html": "<style  type=\"text/css\" >\n</style><table id=\"T_5115edc0_f833_11ea_96af_a683e7df5c7f\" ><caption>European Commission</caption><thead>    <tr>        <th class=\"blank level0\" ></th>        <th class=\"col_heading level0 col0\" >dmp</th>        <th class=\"col_heading level0 col1\" >doi</th>        <th class=\"col_heading level0 col2\" >datasets</th>        <th class=\"col_heading level0 col3\" >hostingInstitution</th>        <th class=\"col_heading level0 col4\" >producer</th>        <th class=\"col_heading level0 col5\" >funders</th>        <th class=\"col_heading level0 col6\" >people</th>    </tr></thead><tbody>\n        </tbody></table>"
     },
     "metadata": {},
     "execution_count": 381
    }
   ],
   "source": [
    "organization"
   ]
  },
  {
   "cell_type": "code",
   "execution_count": 382,
   "metadata": {},
   "outputs": [
    {
     "output_type": "execute_result",
     "data": {
      "text/plain": "<pandas.io.formats.style.Styler at 0x11abf4850>",
      "text/html": "<style  type=\"text/css\" >\n</style><table id=\"T_51208a1e_f833_11ea_96af_a683e7df5c7f\" ><caption>European Commission</caption><thead>    <tr>        <th class=\"blank level0\" ></th>        <th class=\"col_heading level0 col0\" >dmp</th>        <th class=\"col_heading level0 col1\" >doi</th>        <th class=\"col_heading level0 col2\" >datasets</th>        <th class=\"col_heading level0 col3\" >hostingInstitution</th>        <th class=\"col_heading level0 col4\" >producer</th>        <th class=\"col_heading level0 col5\" >funders</th>        <th class=\"col_heading level0 col6\" >people</th>    </tr></thead><tbody>\n        </tbody></table>"
     },
     "metadata": {},
     "execution_count": 382
    }
   ],
   "source": [
    "funder"
   ]
  },
  {
   "cell_type": "code",
   "execution_count": 383,
   "metadata": {},
   "outputs": [
    {
     "output_type": "execute_result",
     "data": {
      "text/plain": "<pandas.io.formats.style.Styler at 0x11aca5490>",
      "text/html": "<style  type=\"text/css\" >\n</style><table id=\"T_512aa6ac_f833_11ea_96af_a683e7df5c7f\" ><caption>Zenodo</caption><thead>    <tr>        <th class=\"blank level0\" ></th>        <th class=\"col_heading level0 col0\" >dmp</th>        <th class=\"col_heading level0 col1\" >doi</th>        <th class=\"col_heading level0 col2\" >datasets</th>        <th class=\"col_heading level0 col3\" >hostingInstitution</th>        <th class=\"col_heading level0 col4\" >producer</th>        <th class=\"col_heading level0 col5\" >funders</th>        <th class=\"col_heading level0 col6\" >people</th>    </tr></thead><tbody>\n        </tbody></table>"
     },
     "metadata": {},
     "execution_count": 383
    }
   ],
   "source": [
    "repository"
   ]
  },
  {
   "cell_type": "code",
   "execution_count": null,
   "metadata": {},
   "outputs": [],
   "source": []
  }
 ]
}