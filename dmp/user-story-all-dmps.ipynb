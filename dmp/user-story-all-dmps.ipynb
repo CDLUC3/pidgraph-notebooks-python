{
 "metadata": {
  "language_info": {
   "codemirror_mode": {
    "name": "ipython",
    "version": 3
   },
   "file_extension": ".py",
   "mimetype": "text/x-python",
   "name": "python",
   "nbconvert_exporter": "python",
   "pygments_lexer": "ipython3",
   "version": "3.8.5-final"
  },
  "orig_nbformat": 2,
  "kernelspec": {
   "name": "python_defaultSpec_1599492004451",
   "display_name": "Python 3.7.5 64-bit"
  }
 },
 "nbformat": 4,
 "nbformat_minor": 2,
 "cells": [
  {
   "cell_type": "markdown",
   "metadata": {},
   "source": [
    "# Member's Machine Actionable Data Management Plans\n",
    "\n",
    "Data management plans (DMPs) are documents accompanying research proposals and project outputs. DMPs are created as free-form text and describe the data and tools employed in scientific investigations. They are often seen as an administrative exercise and not as an integral part of research practice. Machine Actionable DMPs (maDMPs) takes this concept further by \n",
    "\n",
    "This notebook displays in a human-friendly all the DMPs related to Member. By the end of this notebook, you will be able to succinctly display all the DMPs related to a DataCite Member.\n"
   ]
  },
  {
   "cell_type": "code",
   "execution_count": 118,
   "metadata": {},
   "outputs": [],
   "source": [
    "import json\n",
    "import pandas as pd\n",
    "import numpy as np\n",
    "from dfply import *\n",
    "import altair.vega.v5 as alt\n"
   ]
  },
  {
   "cell_type": "code",
   "execution_count": 119,
   "metadata": {},
   "outputs": [],
   "source": [
    "# Prepare the GraphQL client\n",
    "import requests\n",
    "from IPython.display import display, Markdown\n",
    "from gql import gql, Client\n",
    "from gql.transport.requests import RequestsHTTPTransport\n",
    "\n",
    "_transport = RequestsHTTPTransport(\n",
    "    url='https://api.datacite.org/graphql',\n",
    "    use_json=True,\n",
    ")\n",
    "\n",
    "client = Client(\n",
    "    transport=_transport,\n",
    "    fetch_schema_from_transport=True,\n",
    ")"
   ]
  },
  {
   "cell_type": "code",
   "execution_count": 120,
   "metadata": {},
   "outputs": [],
   "source": [
    "# Generate the GraphQL query to retrieve up to 100 outputs of University of Oxford, with at least 100 views each.\n",
    "query_params = {\n",
    "    \"memberId\" : \"cern\"\n",
    "}\n",
    "\n",
    "query = gql(\"\"\"query getOutputs($memberId: String)\n",
    "{\n",
    "  dataManagementPlans(memberId: $memberId) {\n",
    "    totalCount\n",
    "    nodes {\n",
    "      id\n",
    "      title: titles(first: 1) {\n",
    "        title\n",
    "      }\n",
    "      datasets: references(resourceTypeId: \"dataset\") {\n",
    "        totalCount\n",
    "        nodes {\n",
    "          id: doi\n",
    "          name: titles(first: 1) {\n",
    "            title\n",
    "          }\n",
    "        }\n",
    "      }\n",
    "      organisations: contributors(contributorType: \"HostingInstitution\") {\n",
    "        id\n",
    "        name\n",
    "        affiliation {\n",
    "          id\n",
    "        }\n",
    "      }\n",
    "      funders: fundingReferences {\n",
    "        id: funderIdentifier\n",
    "        funderIdentifierType\n",
    "        name: funderName\n",
    "      }\n",
    "      people: creators {\n",
    "        id\n",
    "        name\n",
    "        affiliation {\n",
    "          id\n",
    "        }\n",
    "      }\n",
    "    }\n",
    "  }\n",
    "}\n",
    "\"\"\")"
   ]
  },
  {
   "cell_type": "code",
   "execution_count": 121,
   "metadata": {},
   "outputs": [],
   "source": [
    "def get_series_size(series_element):\n",
    "    return len(series_element)"
   ]
  },
  {
   "cell_type": "code",
   "execution_count": 122,
   "metadata": {},
   "outputs": [],
   "source": [
    "def get_dataset_nodes(series_element):\n",
    "    return series_element['nodes']"
   ]
  },
  {
   "cell_type": "code",
   "execution_count": 123,
   "metadata": {},
   "outputs": [],
   "source": [
    "def get_title(series_element):\n",
    "    return series_element[0]['title']"
   ]
  },
  {
   "cell_type": "code",
   "execution_count": 124,
   "metadata": {},
   "outputs": [],
   "source": [
    "def transform_dmps(dataframe):\n",
    "    \"\"\"Modifies each item to include attributes needed for the node visulisation\n",
    "\n",
    "    Parameters:\n",
    "    dataframe (dataframe): A dataframe with all the itemss\n",
    "    parent (int): The id of the parent node\n",
    "\n",
    "    Returns:\n",
    "    dataframe:Returning vthe same dataframe with new attributes\n",
    "\n",
    "   \"\"\"\n",
    "    if (dataframe) is None:\n",
    "        return pd.DataFrame() \n",
    "    else: \n",
    "        dataframe = (dataframe >>\n",
    "        mutate(\n",
    "            datasets = X.datasets.apply(get_dataset_nodes)\n",
    "        ))\n",
    "\n",
    "        return (dataframe >>\n",
    "        mutate(\n",
    "            id = X.id,\n",
    "            title = X.title.apply(get_title),\n",
    "            datasets = X.datasets.apply(get_series_size),\n",
    "            organisations = X.organisations.apply(get_series_size),\n",
    "            funders = X.funders.apply(get_series_size),\n",
    "            people = X.people.apply(get_series_size)\n",
    "        ))\n",
    "  "
   ]
  },
  {
   "cell_type": "code",
   "execution_count": 125,
   "metadata": {},
   "outputs": [],
   "source": [
    "def get_data():\n",
    "    return client.execute(query, variable_values=json.dumps(query_params))[\"dataManagementPlans\"]"
   ]
  },
  {
   "cell_type": "code",
   "execution_count": 116,
   "metadata": {},
   "outputs": [],
   "source": [
    "data = get_data()[\"nodes\"]\n",
    "\n",
    "table = pd.DataFrame(data,columns=data[0].keys())"
   ]
  },
  {
   "cell_type": "code",
   "execution_count": 117,
   "metadata": {},
   "outputs": [
    {
     "output_type": "execute_result",
     "data": {
      "text/plain": "<pandas.io.formats.style.Styler at 0x11e2e2a90>",
      "text/html": "<style  type=\"text/css\" >\n</style><table id=\"T_3217b80a_f125_11ea_b795_a683e7df5c7f\" ><thead>    <tr>        <th class=\"blank level0\" ></th>        <th class=\"col_heading level0 col0\" >id</th>        <th class=\"col_heading level0 col1\" >title</th>        <th class=\"col_heading level0 col2\" >datasets</th>        <th class=\"col_heading level0 col3\" >organisations</th>        <th class=\"col_heading level0 col4\" >funders</th>        <th class=\"col_heading level0 col5\" >people</th>    </tr></thead><tbody>\n                <tr>\n                        <th id=\"T_3217b80a_f125_11ea_b795_a683e7df5c7flevel0_row0\" class=\"row_heading level0 row0\" >0</th>\n                        <td id=\"T_3217b80a_f125_11ea_b795_a683e7df5c7frow0_col0\" class=\"data row0 col0\" >https://doi.org/10.5281/zenodo.2655759</td>\n                        <td id=\"T_3217b80a_f125_11ea_b795_a683e7df5c7frow0_col1\" class=\"data row0 col1\" >Periódicos técnicos</td>\n                        <td id=\"T_3217b80a_f125_11ea_b795_a683e7df5c7frow0_col2\" class=\"data row0 col2\" >0</td>\n                        <td id=\"T_3217b80a_f125_11ea_b795_a683e7df5c7frow0_col3\" class=\"data row0 col3\" >0</td>\n                        <td id=\"T_3217b80a_f125_11ea_b795_a683e7df5c7frow0_col4\" class=\"data row0 col4\" >0</td>\n                        <td id=\"T_3217b80a_f125_11ea_b795_a683e7df5c7frow0_col5\" class=\"data row0 col5\" >1</td>\n            </tr>\n            <tr>\n                        <th id=\"T_3217b80a_f125_11ea_b795_a683e7df5c7flevel0_row1\" class=\"row_heading level0 row1\" >1</th>\n                        <td id=\"T_3217b80a_f125_11ea_b795_a683e7df5c7frow1_col0\" class=\"data row1 col0\" >https://doi.org/10.5281/zenodo.2655758</td>\n                        <td id=\"T_3217b80a_f125_11ea_b795_a683e7df5c7frow1_col1\" class=\"data row1 col1\" >Periódicos técnicos</td>\n                        <td id=\"T_3217b80a_f125_11ea_b795_a683e7df5c7frow1_col2\" class=\"data row1 col2\" >0</td>\n                        <td id=\"T_3217b80a_f125_11ea_b795_a683e7df5c7frow1_col3\" class=\"data row1 col3\" >0</td>\n                        <td id=\"T_3217b80a_f125_11ea_b795_a683e7df5c7frow1_col4\" class=\"data row1 col4\" >0</td>\n                        <td id=\"T_3217b80a_f125_11ea_b795_a683e7df5c7frow1_col5\" class=\"data row1 col5\" >1</td>\n            </tr>\n            <tr>\n                        <th id=\"T_3217b80a_f125_11ea_b795_a683e7df5c7flevel0_row2\" class=\"row_heading level0 row2\" >2</th>\n                        <td id=\"T_3217b80a_f125_11ea_b795_a683e7df5c7frow2_col0\" class=\"data row2 col0\" >https://doi.org/10.5281/zenodo.2741388</td>\n                        <td id=\"T_3217b80a_f125_11ea_b795_a683e7df5c7frow2_col1\" class=\"data row2 col1\" >Fractional-order functions for solving fractional-order variational problems with boundary conditions</td>\n                        <td id=\"T_3217b80a_f125_11ea_b795_a683e7df5c7frow2_col2\" class=\"data row2 col2\" >0</td>\n                        <td id=\"T_3217b80a_f125_11ea_b795_a683e7df5c7frow2_col3\" class=\"data row2 col3\" >0</td>\n                        <td id=\"T_3217b80a_f125_11ea_b795_a683e7df5c7frow2_col4\" class=\"data row2 col4\" >0</td>\n                        <td id=\"T_3217b80a_f125_11ea_b795_a683e7df5c7frow2_col5\" class=\"data row2 col5\" >2</td>\n            </tr>\n            <tr>\n                        <th id=\"T_3217b80a_f125_11ea_b795_a683e7df5c7flevel0_row3\" class=\"row_heading level0 row3\" >3</th>\n                        <td id=\"T_3217b80a_f125_11ea_b795_a683e7df5c7frow3_col0\" class=\"data row3 col0\" >https://doi.org/10.5281/zenodo.2741387</td>\n                        <td id=\"T_3217b80a_f125_11ea_b795_a683e7df5c7frow3_col1\" class=\"data row3 col1\" >Fractional-order functions for solving fractional-order variational problems with boundary conditions</td>\n                        <td id=\"T_3217b80a_f125_11ea_b795_a683e7df5c7frow3_col2\" class=\"data row3 col2\" >0</td>\n                        <td id=\"T_3217b80a_f125_11ea_b795_a683e7df5c7frow3_col3\" class=\"data row3 col3\" >0</td>\n                        <td id=\"T_3217b80a_f125_11ea_b795_a683e7df5c7frow3_col4\" class=\"data row3 col4\" >0</td>\n                        <td id=\"T_3217b80a_f125_11ea_b795_a683e7df5c7frow3_col5\" class=\"data row3 col5\" >2</td>\n            </tr>\n            <tr>\n                        <th id=\"T_3217b80a_f125_11ea_b795_a683e7df5c7flevel0_row4\" class=\"row_heading level0 row4\" >4</th>\n                        <td id=\"T_3217b80a_f125_11ea_b795_a683e7df5c7frow4_col0\" class=\"data row4 col0\" >https://doi.org/10.5281/zenodo.3245354</td>\n                        <td id=\"T_3217b80a_f125_11ea_b795_a683e7df5c7frow4_col1\" class=\"data row4 col1\" >EURHISFIRM D1.2: Data Management Plan (first version)</td>\n                        <td id=\"T_3217b80a_f125_11ea_b795_a683e7df5c7frow4_col2\" class=\"data row4 col2\" >0</td>\n                        <td id=\"T_3217b80a_f125_11ea_b795_a683e7df5c7frow4_col3\" class=\"data row4 col3\" >0</td>\n                        <td id=\"T_3217b80a_f125_11ea_b795_a683e7df5c7frow4_col4\" class=\"data row4 col4\" >1</td>\n                        <td id=\"T_3217b80a_f125_11ea_b795_a683e7df5c7frow4_col5\" class=\"data row4 col5\" >3</td>\n            </tr>\n            <tr>\n                        <th id=\"T_3217b80a_f125_11ea_b795_a683e7df5c7flevel0_row5\" class=\"row_heading level0 row5\" >5</th>\n                        <td id=\"T_3217b80a_f125_11ea_b795_a683e7df5c7frow5_col0\" class=\"data row5 col0\" >https://doi.org/10.5281/zenodo.3245353</td>\n                        <td id=\"T_3217b80a_f125_11ea_b795_a683e7df5c7frow5_col1\" class=\"data row5 col1\" >EURHISFIRM D1.2: Data Management Plan (first version)</td>\n                        <td id=\"T_3217b80a_f125_11ea_b795_a683e7df5c7frow5_col2\" class=\"data row5 col2\" >0</td>\n                        <td id=\"T_3217b80a_f125_11ea_b795_a683e7df5c7frow5_col3\" class=\"data row5 col3\" >0</td>\n                        <td id=\"T_3217b80a_f125_11ea_b795_a683e7df5c7frow5_col4\" class=\"data row5 col4\" >1</td>\n                        <td id=\"T_3217b80a_f125_11ea_b795_a683e7df5c7frow5_col5\" class=\"data row5 col5\" >3</td>\n            </tr>\n            <tr>\n                        <th id=\"T_3217b80a_f125_11ea_b795_a683e7df5c7flevel0_row6\" class=\"row_heading level0 row6\" >6</th>\n                        <td id=\"T_3217b80a_f125_11ea_b795_a683e7df5c7frow6_col0\" class=\"data row6 col0\" >https://doi.org/10.5281/zenodo.3246339</td>\n                        <td id=\"T_3217b80a_f125_11ea_b795_a683e7df5c7frow6_col1\" class=\"data row6 col1\" >EURHISFIRM D1.7: Second Data Management Plan</td>\n                        <td id=\"T_3217b80a_f125_11ea_b795_a683e7df5c7frow6_col2\" class=\"data row6 col2\" >0</td>\n                        <td id=\"T_3217b80a_f125_11ea_b795_a683e7df5c7frow6_col3\" class=\"data row6 col3\" >0</td>\n                        <td id=\"T_3217b80a_f125_11ea_b795_a683e7df5c7frow6_col4\" class=\"data row6 col4\" >1</td>\n                        <td id=\"T_3217b80a_f125_11ea_b795_a683e7df5c7frow6_col5\" class=\"data row6 col5\" >5</td>\n            </tr>\n            <tr>\n                        <th id=\"T_3217b80a_f125_11ea_b795_a683e7df5c7flevel0_row7\" class=\"row_heading level0 row7\" >7</th>\n                        <td id=\"T_3217b80a_f125_11ea_b795_a683e7df5c7frow7_col0\" class=\"data row7 col0\" >https://doi.org/10.5281/zenodo.3246338</td>\n                        <td id=\"T_3217b80a_f125_11ea_b795_a683e7df5c7frow7_col1\" class=\"data row7 col1\" >EURHISFIRM D1.7: Second Data Management Plan</td>\n                        <td id=\"T_3217b80a_f125_11ea_b795_a683e7df5c7frow7_col2\" class=\"data row7 col2\" >0</td>\n                        <td id=\"T_3217b80a_f125_11ea_b795_a683e7df5c7frow7_col3\" class=\"data row7 col3\" >0</td>\n                        <td id=\"T_3217b80a_f125_11ea_b795_a683e7df5c7frow7_col4\" class=\"data row7 col4\" >1</td>\n                        <td id=\"T_3217b80a_f125_11ea_b795_a683e7df5c7frow7_col5\" class=\"data row7 col5\" >5</td>\n            </tr>\n            <tr>\n                        <th id=\"T_3217b80a_f125_11ea_b795_a683e7df5c7flevel0_row8\" class=\"row_heading level0 row8\" >8</th>\n                        <td id=\"T_3217b80a_f125_11ea_b795_a683e7df5c7frow8_col0\" class=\"data row8 col0\" >https://doi.org/10.5281/zenodo.3247755</td>\n                        <td id=\"T_3217b80a_f125_11ea_b795_a683e7df5c7frow8_col1\" class=\"data row8 col1\" >Example ezDMP output</td>\n                        <td id=\"T_3217b80a_f125_11ea_b795_a683e7df5c7frow8_col2\" class=\"data row8 col2\" >0</td>\n                        <td id=\"T_3217b80a_f125_11ea_b795_a683e7df5c7frow8_col3\" class=\"data row8 col3\" >0</td>\n                        <td id=\"T_3217b80a_f125_11ea_b795_a683e7df5c7frow8_col4\" class=\"data row8 col4\" >0</td>\n                        <td id=\"T_3217b80a_f125_11ea_b795_a683e7df5c7frow8_col5\" class=\"data row8 col5\" >1</td>\n            </tr>\n            <tr>\n                        <th id=\"T_3217b80a_f125_11ea_b795_a683e7df5c7flevel0_row9\" class=\"row_heading level0 row9\" >9</th>\n                        <td id=\"T_3217b80a_f125_11ea_b795_a683e7df5c7frow9_col0\" class=\"data row9 col0\" >https://doi.org/10.5281/zenodo.3247756</td>\n                        <td id=\"T_3217b80a_f125_11ea_b795_a683e7df5c7frow9_col1\" class=\"data row9 col1\" >Example ezDMP output</td>\n                        <td id=\"T_3217b80a_f125_11ea_b795_a683e7df5c7frow9_col2\" class=\"data row9 col2\" >0</td>\n                        <td id=\"T_3217b80a_f125_11ea_b795_a683e7df5c7frow9_col3\" class=\"data row9 col3\" >0</td>\n                        <td id=\"T_3217b80a_f125_11ea_b795_a683e7df5c7frow9_col4\" class=\"data row9 col4\" >0</td>\n                        <td id=\"T_3217b80a_f125_11ea_b795_a683e7df5c7frow9_col5\" class=\"data row9 col5\" >1</td>\n            </tr>\n            <tr>\n                        <th id=\"T_3217b80a_f125_11ea_b795_a683e7df5c7flevel0_row10\" class=\"row_heading level0 row10\" >10</th>\n                        <td id=\"T_3217b80a_f125_11ea_b795_a683e7df5c7frow10_col0\" class=\"data row10 col0\" >https://doi.org/10.5281/zenodo.3253683</td>\n                        <td id=\"T_3217b80a_f125_11ea_b795_a683e7df5c7frow10_col1\" class=\"data row10 col1\" >European Collaboration for Healthcare Optimisation (ECHO) Data Model Specification</td>\n                        <td id=\"T_3217b80a_f125_11ea_b795_a683e7df5c7frow10_col2\" class=\"data row10 col2\" >0</td>\n                        <td id=\"T_3217b80a_f125_11ea_b795_a683e7df5c7frow10_col3\" class=\"data row10 col3\" >0</td>\n                        <td id=\"T_3217b80a_f125_11ea_b795_a683e7df5c7frow10_col4\" class=\"data row10 col4\" >1</td>\n                        <td id=\"T_3217b80a_f125_11ea_b795_a683e7df5c7frow10_col5\" class=\"data row10 col5\" >8</td>\n            </tr>\n            <tr>\n                        <th id=\"T_3217b80a_f125_11ea_b795_a683e7df5c7flevel0_row11\" class=\"row_heading level0 row11\" >11</th>\n                        <td id=\"T_3217b80a_f125_11ea_b795_a683e7df5c7frow11_col0\" class=\"data row11 col0\" >https://doi.org/10.5281/zenodo.3253684</td>\n                        <td id=\"T_3217b80a_f125_11ea_b795_a683e7df5c7frow11_col1\" class=\"data row11 col1\" >European Collaboration for Healthcare Optimisation (ECHO) Data Model Specification</td>\n                        <td id=\"T_3217b80a_f125_11ea_b795_a683e7df5c7frow11_col2\" class=\"data row11 col2\" >0</td>\n                        <td id=\"T_3217b80a_f125_11ea_b795_a683e7df5c7frow11_col3\" class=\"data row11 col3\" >0</td>\n                        <td id=\"T_3217b80a_f125_11ea_b795_a683e7df5c7frow11_col4\" class=\"data row11 col4\" >1</td>\n                        <td id=\"T_3217b80a_f125_11ea_b795_a683e7df5c7frow11_col5\" class=\"data row11 col5\" >8</td>\n            </tr>\n            <tr>\n                        <th id=\"T_3217b80a_f125_11ea_b795_a683e7df5c7flevel0_row12\" class=\"row_heading level0 row12\" >12</th>\n                        <td id=\"T_3217b80a_f125_11ea_b795_a683e7df5c7frow12_col0\" class=\"data row12 col0\" >https://doi.org/10.5281/zenodo.3265764</td>\n                        <td id=\"T_3217b80a_f125_11ea_b795_a683e7df5c7frow12_col1\" class=\"data row12 col1\" >The data management plan of Alien-CSI</td>\n                        <td id=\"T_3217b80a_f125_11ea_b795_a683e7df5c7frow12_col2\" class=\"data row12 col2\" >0</td>\n                        <td id=\"T_3217b80a_f125_11ea_b795_a683e7df5c7frow12_col3\" class=\"data row12 col3\" >0</td>\n                        <td id=\"T_3217b80a_f125_11ea_b795_a683e7df5c7frow12_col4\" class=\"data row12 col4\" >0</td>\n                        <td id=\"T_3217b80a_f125_11ea_b795_a683e7df5c7frow12_col5\" class=\"data row12 col5\" >12</td>\n            </tr>\n            <tr>\n                        <th id=\"T_3217b80a_f125_11ea_b795_a683e7df5c7flevel0_row13\" class=\"row_heading level0 row13\" >13</th>\n                        <td id=\"T_3217b80a_f125_11ea_b795_a683e7df5c7frow13_col0\" class=\"data row13 col0\" >https://doi.org/10.5281/zenodo.3265765</td>\n                        <td id=\"T_3217b80a_f125_11ea_b795_a683e7df5c7frow13_col1\" class=\"data row13 col1\" >The data management plan of Alien-CSI</td>\n                        <td id=\"T_3217b80a_f125_11ea_b795_a683e7df5c7frow13_col2\" class=\"data row13 col2\" >0</td>\n                        <td id=\"T_3217b80a_f125_11ea_b795_a683e7df5c7frow13_col3\" class=\"data row13 col3\" >0</td>\n                        <td id=\"T_3217b80a_f125_11ea_b795_a683e7df5c7frow13_col4\" class=\"data row13 col4\" >0</td>\n                        <td id=\"T_3217b80a_f125_11ea_b795_a683e7df5c7frow13_col5\" class=\"data row13 col5\" >12</td>\n            </tr>\n            <tr>\n                        <th id=\"T_3217b80a_f125_11ea_b795_a683e7df5c7flevel0_row14\" class=\"row_heading level0 row14\" >14</th>\n                        <td id=\"T_3217b80a_f125_11ea_b795_a683e7df5c7frow14_col0\" class=\"data row14 col0\" >https://doi.org/10.5281/zenodo.3349817</td>\n                        <td id=\"T_3217b80a_f125_11ea_b795_a683e7df5c7frow14_col1\" class=\"data row14 col1\" >TANGO Data Management Plan Version 3</td>\n                        <td id=\"T_3217b80a_f125_11ea_b795_a683e7df5c7frow14_col2\" class=\"data row14 col2\" >0</td>\n                        <td id=\"T_3217b80a_f125_11ea_b795_a683e7df5c7frow14_col3\" class=\"data row14 col3\" >0</td>\n                        <td id=\"T_3217b80a_f125_11ea_b795_a683e7df5c7frow14_col4\" class=\"data row14 col4\" >0</td>\n                        <td id=\"T_3217b80a_f125_11ea_b795_a683e7df5c7frow14_col5\" class=\"data row14 col5\" >4</td>\n            </tr>\n            <tr>\n                        <th id=\"T_3217b80a_f125_11ea_b795_a683e7df5c7flevel0_row15\" class=\"row_heading level0 row15\" >15</th>\n                        <td id=\"T_3217b80a_f125_11ea_b795_a683e7df5c7frow15_col0\" class=\"data row15 col0\" >https://doi.org/10.5281/zenodo.3349816</td>\n                        <td id=\"T_3217b80a_f125_11ea_b795_a683e7df5c7frow15_col1\" class=\"data row15 col1\" >TANGO Data Management Plan Version 4</td>\n                        <td id=\"T_3217b80a_f125_11ea_b795_a683e7df5c7frow15_col2\" class=\"data row15 col2\" >0</td>\n                        <td id=\"T_3217b80a_f125_11ea_b795_a683e7df5c7frow15_col3\" class=\"data row15 col3\" >0</td>\n                        <td id=\"T_3217b80a_f125_11ea_b795_a683e7df5c7frow15_col4\" class=\"data row15 col4\" >0</td>\n                        <td id=\"T_3217b80a_f125_11ea_b795_a683e7df5c7frow15_col5\" class=\"data row15 col5\" >4</td>\n            </tr>\n            <tr>\n                        <th id=\"T_3217b80a_f125_11ea_b795_a683e7df5c7flevel0_row16\" class=\"row_heading level0 row16\" >16</th>\n                        <td id=\"T_3217b80a_f125_11ea_b795_a683e7df5c7frow16_col0\" class=\"data row16 col0\" >https://doi.org/10.5281/zenodo.3368558</td>\n                        <td id=\"T_3217b80a_f125_11ea_b795_a683e7df5c7frow16_col1\" class=\"data row16 col1\" >REEEM-D6.6_Data Management Plan (DMP) - Collection, processing and dissemination of data</td>\n                        <td id=\"T_3217b80a_f125_11ea_b795_a683e7df5c7frow16_col2\" class=\"data row16 col2\" >0</td>\n                        <td id=\"T_3217b80a_f125_11ea_b795_a683e7df5c7frow16_col3\" class=\"data row16 col3\" >0</td>\n                        <td id=\"T_3217b80a_f125_11ea_b795_a683e7df5c7frow16_col4\" class=\"data row16 col4\" >1</td>\n                        <td id=\"T_3217b80a_f125_11ea_b795_a683e7df5c7frow16_col5\" class=\"data row16 col5\" >1</td>\n            </tr>\n            <tr>\n                        <th id=\"T_3217b80a_f125_11ea_b795_a683e7df5c7flevel0_row17\" class=\"row_heading level0 row17\" >17</th>\n                        <td id=\"T_3217b80a_f125_11ea_b795_a683e7df5c7frow17_col0\" class=\"data row17 col0\" >https://doi.org/10.5281/zenodo.3368557</td>\n                        <td id=\"T_3217b80a_f125_11ea_b795_a683e7df5c7frow17_col1\" class=\"data row17 col1\" >REEEM-D6.6_Data Management Plan (DMP) - Collection, processing and dissemination of data</td>\n                        <td id=\"T_3217b80a_f125_11ea_b795_a683e7df5c7frow17_col2\" class=\"data row17 col2\" >0</td>\n                        <td id=\"T_3217b80a_f125_11ea_b795_a683e7df5c7frow17_col3\" class=\"data row17 col3\" >0</td>\n                        <td id=\"T_3217b80a_f125_11ea_b795_a683e7df5c7frow17_col4\" class=\"data row17 col4\" >1</td>\n                        <td id=\"T_3217b80a_f125_11ea_b795_a683e7df5c7frow17_col5\" class=\"data row17 col5\" >1</td>\n            </tr>\n            <tr>\n                        <th id=\"T_3217b80a_f125_11ea_b795_a683e7df5c7flevel0_row18\" class=\"row_heading level0 row18\" >18</th>\n                        <td id=\"T_3217b80a_f125_11ea_b795_a683e7df5c7frow18_col0\" class=\"data row18 col0\" >https://doi.org/10.5281/zenodo.3372460</td>\n                        <td id=\"T_3217b80a_f125_11ea_b795_a683e7df5c7frow18_col1\" class=\"data row18 col1\" >D6.5 Data Management Plan</td>\n                        <td id=\"T_3217b80a_f125_11ea_b795_a683e7df5c7frow18_col2\" class=\"data row18 col2\" >0</td>\n                        <td id=\"T_3217b80a_f125_11ea_b795_a683e7df5c7frow18_col3\" class=\"data row18 col3\" >0</td>\n                        <td id=\"T_3217b80a_f125_11ea_b795_a683e7df5c7frow18_col4\" class=\"data row18 col4\" >1</td>\n                        <td id=\"T_3217b80a_f125_11ea_b795_a683e7df5c7frow18_col5\" class=\"data row18 col5\" >1</td>\n            </tr>\n            <tr>\n                        <th id=\"T_3217b80a_f125_11ea_b795_a683e7df5c7flevel0_row19\" class=\"row_heading level0 row19\" >19</th>\n                        <td id=\"T_3217b80a_f125_11ea_b795_a683e7df5c7frow19_col0\" class=\"data row19 col0\" >https://doi.org/10.5281/zenodo.3372459</td>\n                        <td id=\"T_3217b80a_f125_11ea_b795_a683e7df5c7frow19_col1\" class=\"data row19 col1\" >D6.5 Data Management Plan</td>\n                        <td id=\"T_3217b80a_f125_11ea_b795_a683e7df5c7frow19_col2\" class=\"data row19 col2\" >0</td>\n                        <td id=\"T_3217b80a_f125_11ea_b795_a683e7df5c7frow19_col3\" class=\"data row19 col3\" >0</td>\n                        <td id=\"T_3217b80a_f125_11ea_b795_a683e7df5c7frow19_col4\" class=\"data row19 col4\" >1</td>\n                        <td id=\"T_3217b80a_f125_11ea_b795_a683e7df5c7frow19_col5\" class=\"data row19 col5\" >1</td>\n            </tr>\n            <tr>\n                        <th id=\"T_3217b80a_f125_11ea_b795_a683e7df5c7flevel0_row20\" class=\"row_heading level0 row20\" >20</th>\n                        <td id=\"T_3217b80a_f125_11ea_b795_a683e7df5c7frow20_col0\" class=\"data row20 col0\" >https://doi.org/10.5281/zenodo.3441880</td>\n                        <td id=\"T_3217b80a_f125_11ea_b795_a683e7df5c7frow20_col1\" class=\"data row20 col1\" >DMP test 1</td>\n                        <td id=\"T_3217b80a_f125_11ea_b795_a683e7df5c7frow20_col2\" class=\"data row20 col2\" >0</td>\n                        <td id=\"T_3217b80a_f125_11ea_b795_a683e7df5c7frow20_col3\" class=\"data row20 col3\" >0</td>\n                        <td id=\"T_3217b80a_f125_11ea_b795_a683e7df5c7frow20_col4\" class=\"data row20 col4\" >0</td>\n                        <td id=\"T_3217b80a_f125_11ea_b795_a683e7df5c7frow20_col5\" class=\"data row20 col5\" >1</td>\n            </tr>\n            <tr>\n                        <th id=\"T_3217b80a_f125_11ea_b795_a683e7df5c7flevel0_row21\" class=\"row_heading level0 row21\" >21</th>\n                        <td id=\"T_3217b80a_f125_11ea_b795_a683e7df5c7frow21_col0\" class=\"data row21 col0\" >https://doi.org/10.5281/zenodo.3441879</td>\n                        <td id=\"T_3217b80a_f125_11ea_b795_a683e7df5c7frow21_col1\" class=\"data row21 col1\" >DMP test 1</td>\n                        <td id=\"T_3217b80a_f125_11ea_b795_a683e7df5c7frow21_col2\" class=\"data row21 col2\" >0</td>\n                        <td id=\"T_3217b80a_f125_11ea_b795_a683e7df5c7frow21_col3\" class=\"data row21 col3\" >0</td>\n                        <td id=\"T_3217b80a_f125_11ea_b795_a683e7df5c7frow21_col4\" class=\"data row21 col4\" >0</td>\n                        <td id=\"T_3217b80a_f125_11ea_b795_a683e7df5c7frow21_col5\" class=\"data row21 col5\" >1</td>\n            </tr>\n            <tr>\n                        <th id=\"T_3217b80a_f125_11ea_b795_a683e7df5c7flevel0_row22\" class=\"row_heading level0 row22\" >22</th>\n                        <td id=\"T_3217b80a_f125_11ea_b795_a683e7df5c7frow22_col0\" class=\"data row22 col0\" >https://doi.org/10.5281/zenodo.3446152</td>\n                        <td id=\"T_3217b80a_f125_11ea_b795_a683e7df5c7frow22_col1\" class=\"data row22 col1\" >Data Management Plan</td>\n                        <td id=\"T_3217b80a_f125_11ea_b795_a683e7df5c7frow22_col2\" class=\"data row22 col2\" >0</td>\n                        <td id=\"T_3217b80a_f125_11ea_b795_a683e7df5c7frow22_col3\" class=\"data row22 col3\" >0</td>\n                        <td id=\"T_3217b80a_f125_11ea_b795_a683e7df5c7frow22_col4\" class=\"data row22 col4\" >1</td>\n                        <td id=\"T_3217b80a_f125_11ea_b795_a683e7df5c7frow22_col5\" class=\"data row22 col5\" >1</td>\n            </tr>\n            <tr>\n                        <th id=\"T_3217b80a_f125_11ea_b795_a683e7df5c7flevel0_row23\" class=\"row_heading level0 row23\" >23</th>\n                        <td id=\"T_3217b80a_f125_11ea_b795_a683e7df5c7frow23_col0\" class=\"data row23 col0\" >https://doi.org/10.5281/zenodo.3446151</td>\n                        <td id=\"T_3217b80a_f125_11ea_b795_a683e7df5c7frow23_col1\" class=\"data row23 col1\" >Data Management Plan</td>\n                        <td id=\"T_3217b80a_f125_11ea_b795_a683e7df5c7frow23_col2\" class=\"data row23 col2\" >0</td>\n                        <td id=\"T_3217b80a_f125_11ea_b795_a683e7df5c7frow23_col3\" class=\"data row23 col3\" >0</td>\n                        <td id=\"T_3217b80a_f125_11ea_b795_a683e7df5c7frow23_col4\" class=\"data row23 col4\" >1</td>\n                        <td id=\"T_3217b80a_f125_11ea_b795_a683e7df5c7frow23_col5\" class=\"data row23 col5\" >1</td>\n            </tr>\n            <tr>\n                        <th id=\"T_3217b80a_f125_11ea_b795_a683e7df5c7flevel0_row24\" class=\"row_heading level0 row24\" >24</th>\n                        <td id=\"T_3217b80a_f125_11ea_b795_a683e7df5c7frow24_col0\" class=\"data row24 col0\" >https://doi.org/10.5281/zenodo.3459695</td>\n                        <td id=\"T_3217b80a_f125_11ea_b795_a683e7df5c7frow24_col1\" class=\"data row24 col1\" >RECEIPT Data Management Plan</td>\n                        <td id=\"T_3217b80a_f125_11ea_b795_a683e7df5c7frow24_col2\" class=\"data row24 col2\" >0</td>\n                        <td id=\"T_3217b80a_f125_11ea_b795_a683e7df5c7frow24_col3\" class=\"data row24 col3\" >0</td>\n                        <td id=\"T_3217b80a_f125_11ea_b795_a683e7df5c7frow24_col4\" class=\"data row24 col4\" >0</td>\n                        <td id=\"T_3217b80a_f125_11ea_b795_a683e7df5c7frow24_col5\" class=\"data row24 col5\" >1</td>\n            </tr>\n    </tbody></table>"
     },
     "metadata": {},
     "execution_count": 117
    }
   ],
   "source": [
    "transform_dmps(table).style"
   ]
  }
 ]
}