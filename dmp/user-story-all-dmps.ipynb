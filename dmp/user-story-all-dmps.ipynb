{
 "metadata": {
  "language_info": {
   "codemirror_mode": {
    "name": "ipython",
    "version": 3
   },
   "file_extension": ".py",
   "mimetype": "text/x-python",
   "name": "python",
   "nbconvert_exporter": "python",
   "pygments_lexer": "ipython3",
   "version": "3.8.5-final"
  },
  "orig_nbformat": 2,
  "kernelspec": {
   "name": "python_defaultSpec_1598456522201",
   "display_name": "Python 3.7.5 64-bit"
  }
 },
 "nbformat": 4,
 "nbformat_minor": 2,
 "cells": [
  {
   "cell_type": "code",
   "execution_count": 1,
   "metadata": {},
   "outputs": [],
   "source": [
    "import json\n",
    "import pandas as pd\n",
    "import numpy as np\n",
    "from dfply import *\n",
    "import altair.vega.v5 as alt\n"
   ]
  },
  {
   "cell_type": "code",
   "execution_count": 2,
   "metadata": {},
   "outputs": [],
   "source": [
    "# Prepare the GraphQL client\n",
    "import requests\n",
    "from IPython.display import display, Markdown\n",
    "from gql import gql, Client\n",
    "from gql.transport.requests import RequestsHTTPTransport\n",
    "\n",
    "_transport = RequestsHTTPTransport(\n",
    "    url='https://api.datacite.org/graphql',\n",
    "    use_json=True,\n",
    ")\n",
    "\n",
    "client = Client(\n",
    "    transport=_transport,\n",
    "    fetch_schema_from_transport=True,\n",
    ")"
   ]
  },
  {
   "cell_type": "code",
   "execution_count": 3,
   "metadata": {},
   "outputs": [],
   "source": [
    "# Generate the GraphQL query to retrieve up to 100 outputs of University of Oxford, with at least 100 views each.\n",
    "query_params = {\n",
    "    \"rorId\" : \"https://ror.org/052gg0110\",\n",
    "    \"maxOutputs\": 100,\n",
    "    \"minViews\" : 100\n",
    "}\n",
    "\n",
    "query = gql(\"\"\"query getOutputs($rorId: ID!, $maxOutputs: Int!, $minViews: Int!)\n",
    "{\n",
    " organization(id: $rorId) {\n",
    "    id\n",
    "    name\n",
    "    alternateName\n",
    "    citationCount\n",
    "    viewCount\n",
    "    downloadCount\n",
    "    works(hasViews: $minViews, first: $maxOutputs) {\n",
    "      totalCount\n",
    "      published {\n",
    "        title\n",
    "        count\n",
    "      }\n",
    "      resourceTypes {\n",
    "        title\n",
    "        count\n",
    "      }\n",
    "      nodes {\n",
    "        id\n",
    "        type\n",
    "        publisher\n",
    "        publicationYear\n",
    "        titles {\n",
    "          title\n",
    "        }\n",
    "        citations {\n",
    "           nodes {\n",
    "             id\n",
    "             titles {\n",
    "                title\n",
    "             }\n",
    "           }\n",
    "        }\n",
    "        creators {\n",
    "          id\n",
    "          name\n",
    "          affiliation {\n",
    "            id\n",
    "            name\n",
    "          }\n",
    "        }\n",
    "        citationCount\n",
    "        viewCount\n",
    "        downloadCount\n",
    "      }\n",
    "    }\n",
    "  }\n",
    "}\n",
    "\"\"\")"
   ]
  },
  {
   "cell_type": "code",
   "execution_count": 4,
   "metadata": {},
   "outputs": [],
   "source": [
    "# pd = nb_setup.setup_pandas(escape_latex=False)\n"
   ]
  },
  {
   "cell_type": "code",
   "execution_count": 5,
   "metadata": {},
   "outputs": [],
   "source": [
    "# data = client.execute(query, variable_values=json.dumps(query_params))"
   ]
  },
  {
   "cell_type": "code",
   "execution_count": 6,
   "metadata": {},
   "outputs": [],
   "source": [
    "def get_data():\n",
    "    response_string = '{\"data\":{\"work\":{\"relatedIdentifiers\":[{\"relatedIdentifier\":\"10.5281\\/zenodo.2648713\",\"relatedIdentifierType\":\"DOI\",\"relationType\":\"Cites\"},{\"relatedIdentifier\":\"10.5281\\/zenodo.2648740\",\"relatedIdentifierType\":\"DOI\",\"relationType\":\"Cites\"},{\"relatedIdentifier\":\"10.5281\\/zenodo.2648800\",\"relatedIdentifierType\":\"DOI\",\"relationType\":\"IsSupplementTo\"},{\"relatedIdentifier\":\"10.5281\\/zenodo.2648751\",\"relatedIdentifierType\":\"DOI\",\"relationType\":\"HasVersion\"}],\"creators\":[{\"id\":\"https:\\/\\/orcid.org\\/0000-0002-4537-6648\",\"name\":\"Leidinger, Moritz\",\"affiliation\":[{\"id\":null}]}],\"publisher\":\"Zenodo\",\"identifiers\":[{\"identifier\":\"https:\\/\\/zenodo.org\\/record\\/2648751\",\"identifierType\":\"URL\"}],\"fundingReferences\":null,\"repository\":{\"id\":\"cern.zenodo\",\"re3dataId\":\"10.17616\\/R3QP53\",\"repositoryType\":[\"other\"]},\"citations\":{\"totalCount\":0,\"published\":[],\"nodes\":[]},\"references\":{\"published\":[],\"nodes\":[{ \"id\": \"https://doi.org/10.15468/dl.ojaesd\", \"formattedCitation\": \"Occdownload Gbif.Org. (2015). <i>GBIF Occurrence Download</i> [Data set]. The Global Biodiversity Information Facility. https://doi.org/10.15468/DL.OJAESD</a>\", \"repository\": { \"name\": \"Global Biodiversity Information Facility\", \"re3dataId\": \"10.17616/R3J014\", \"id\": \"gbif.gbif\" }, \"registrationAgency\": { \"name\": null, \"id\": null }, \"member\": { \"name\": \"Global Biodiversity Information Facility\", \"id\": \"gbif\" } }, { \"id\": \"https://doi.org/10.15468/dl.uq8ndo\", \"formattedCitation\": \"Occdownload Gbif.Org. (2018). <i>GBIF Occurrence Download</i> [Data set]. The Global Biodiversity Information Facility. https://doi.org/10.15468/DL.UQ8NDO</a>\", \"repository\": { \"name\": \"Global Biodiversity Information Facility\", \"re3dataId\": \"10.17616/R3J014\", \"id\": \"gbif.gbif\" }, \"registrationAgency\": { \"name\": \"DataCite\", \"id\": \"datacite\" }, \"member\": { \"name\": \"Global Biodiversity Information Facility\", \"id\": \"gbif\" } }]}}}}'\n",
    "    return json.loads(response_string)[\"data\"][\"work\"]"
   ]
  },
  {
   "cell_type": "code",
   "execution_count": 9,
   "metadata": {},
   "outputs": [],
   "source": [
    "x = pd.DataFrame(get_data()[\"references\"][\"nodes\"],columns=get_data()[\"references\"][\"nodes\"][1].keys())"
   ]
  },
  {
   "cell_type": "code",
   "execution_count": 10,
   "metadata": {},
   "outputs": [
    {
     "output_type": "execute_result",
     "data": {
      "text/plain": "                                   id  \\\n0  https://doi.org/10.15468/dl.ojaesd   \n1  https://doi.org/10.15468/dl.uq8ndo   \n\n                                   formattedCitation  \\\n0  Occdownload Gbif.Org. (2015). <i>GBIF Occurren...   \n1  Occdownload Gbif.Org. (2018). <i>GBIF Occurren...   \n\n                                          repository  \\\n0  {'name': 'Global Biodiversity Information Faci...   \n1  {'name': 'Global Biodiversity Information Faci...   \n\n                       registrationAgency  \\\n0              {'name': None, 'id': None}   \n1  {'name': 'DataCite', 'id': 'datacite'}   \n\n                                              member  \n0  {'name': 'Global Biodiversity Information Faci...  \n1  {'name': 'Global Biodiversity Information Faci...  ",
      "text/html": "<div>\n<style scoped>\n    .dataframe tbody tr th:only-of-type {\n        vertical-align: middle;\n    }\n\n    .dataframe tbody tr th {\n        vertical-align: top;\n    }\n\n    .dataframe thead th {\n        text-align: right;\n    }\n</style>\n<table border=\"1\" class=\"dataframe\">\n  <thead>\n    <tr style=\"text-align: right;\">\n      <th></th>\n      <th>id</th>\n      <th>formattedCitation</th>\n      <th>repository</th>\n      <th>registrationAgency</th>\n      <th>member</th>\n    </tr>\n  </thead>\n  <tbody>\n    <tr>\n      <th>0</th>\n      <td>https://doi.org/10.15468/dl.ojaesd</td>\n      <td>Occdownload Gbif.Org. (2015). &lt;i&gt;GBIF Occurren...</td>\n      <td>{'name': 'Global Biodiversity Information Faci...</td>\n      <td>{'name': None, 'id': None}</td>\n      <td>{'name': 'Global Biodiversity Information Faci...</td>\n    </tr>\n    <tr>\n      <th>1</th>\n      <td>https://doi.org/10.15468/dl.uq8ndo</td>\n      <td>Occdownload Gbif.Org. (2018). &lt;i&gt;GBIF Occurren...</td>\n      <td>{'name': 'Global Biodiversity Information Faci...</td>\n      <td>{'name': 'DataCite', 'id': 'datacite'}</td>\n      <td>{'name': 'Global Biodiversity Information Faci...</td>\n    </tr>\n  </tbody>\n</table>\n</div>"
     },
     "metadata": {},
     "execution_count": 10
    }
   ],
   "source": [
    "x"
   ]
  },
  {
   "cell_type": "code",
   "execution_count": null,
   "metadata": {},
   "outputs": [],
   "source": []
  }
 ]
}