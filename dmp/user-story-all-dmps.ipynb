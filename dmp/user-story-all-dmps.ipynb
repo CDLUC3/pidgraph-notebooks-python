{
 "metadata": {
  "language_info": {
   "codemirror_mode": {
    "name": "ipython",
    "version": 3
   },
   "file_extension": ".py",
   "mimetype": "text/x-python",
   "name": "python",
   "nbconvert_exporter": "python",
   "pygments_lexer": "ipython3",
   "version": "3.8.5-final"
  },
  "orig_nbformat": 2,
  "kernelspec": {
   "name": "python_defaultSpec_1599492004451",
   "display_name": "Python 3.7.5 64-bit"
  }
 },
 "nbformat": 4,
 "nbformat_minor": 2,
 "cells": [
  {
   "cell_type": "markdown",
   "metadata": {},
   "source": [
    "# Member's Machine Actionable Data Management Plans\n",
    "\n",
    "Data management plans (DMPs) are documents accompanying research proposals and project outputs. DMPs are created as free-form text and describe the data and tools employed in scientific investigations. They are often seen as an administrative exercise and not as an integral part of research practice. Machine Actionable DMPs (maDMPs) takes this concept further by \n",
    "\n",
    "This notebook displays in a human-friendly all the DMPs related to Member. By the end of this notebook, you will be able to succinctly display all the DMPs related to a DataCite Member.\n"
   ]
  },
  {
   "cell_type": "code",
   "execution_count": 40,
   "metadata": {},
   "outputs": [],
   "source": [
    "import json\n",
    "import pandas as pd\n",
    "import numpy as np\n",
    "from dfply import *\n",
    "import altair.vega.v5 as alt\n"
   ]
  },
  {
   "cell_type": "code",
   "execution_count": 154,
   "metadata": {},
   "outputs": [],
   "source": [
    "# Prepare the GraphQL client\n",
    "import requests\n",
    "from IPython.display import display, Markdown\n",
    "from gql import gql, Client\n",
    "from gql.transport.requests import RequestsHTTPTransport\n",
    "\n",
    "_transport = RequestsHTTPTransport(\n",
    "    url='https://api.stage.datacite.org/graphql',\n",
    "    use_json=True,\n",
    ")\n",
    "\n",
    "client = Client(\n",
    "    transport=_transport,\n",
    "    fetch_schema_from_transport=True,\n",
    ")"
   ]
  },
  {
   "cell_type": "markdown",
   "metadata": {},
   "source": [
    "## Fetching Data\n",
    "\n",
    "We obtain all the data from the DataCite GraphQL API.\n"
   ]
  },
  {
   "cell_type": "code",
   "execution_count": 156,
   "metadata": {},
   "outputs": [],
   "source": [
    " # Generate the GraphQL query to retrieve up to 100 outputs of University of Oxford, with at least 100 views each.\n",
    "query_params = {\n",
    "    \"rorId\" : \"https://ror.org/00k4n6c32\",\n",
    "    \"funderId\" : \"https://doi.org/10.13039/501100006568\",\n",
    "    \"repositoryId\" : \"bl.oxdb\"\n",
    "}\n",
    "\n",
    "organizationQuery = gql(\"\"\"query getOutputs($rorId: ID!)\n",
    "{\n",
    "  organization(id: $rorId) {\n",
    "    name\n",
    "    dataManagementPlans {\n",
    "      totalCount\n",
    "      nodes {\n",
    "        id\n",
    "        title: titles(first: 1) {\n",
    "          title\n",
    "        }\n",
    "        datasets: references(resourceTypeId: \"dataset\") {\n",
    "          totalCount\n",
    "          nodes {\n",
    "            id: doi\n",
    "            name: titles(first: 1) {\n",
    "              title\n",
    "            }\n",
    "          }\n",
    "        }\n",
    "        organisations: contributors(contributorType: \"HostingInstitution\") {\n",
    "          id\n",
    "          name\n",
    "          affiliation {\n",
    "            id\n",
    "          }\n",
    "        }\n",
    "        funders: fundingReferences {\n",
    "          id: funderIdentifier\n",
    "          funderIdentifierType\n",
    "          name: funderName\n",
    "        }\n",
    "        people: creators {\n",
    "          id\n",
    "          name\n",
    "          affiliation {\n",
    "            id\n",
    "          }\n",
    "        }\n",
    "      }\n",
    "    }\n",
    "  }\n",
    "}\n",
    "\"\"\")\n",
    "\n",
    "funderQuery = gql(\"\"\"query getOutputs($funderId: ID!)\n",
    "{\n",
    "  funder(id: $funderId) {\n",
    "    name\n",
    "    dataManagementPlans {\n",
    "      totalCount\n",
    "      nodes {\n",
    "        id\n",
    "        title: titles(first: 1) {\n",
    "          title\n",
    "        }\n",
    "        datasets: references(resourceTypeId: \"dataset\") {\n",
    "          totalCount\n",
    "          nodes {\n",
    "            id: doi\n",
    "            name: titles(first: 1) {\n",
    "              title\n",
    "            }\n",
    "          }\n",
    "        }\n",
    "        organisations: contributors(contributorType: \"HostingInstitution\") {\n",
    "          id\n",
    "          name\n",
    "          affiliation {\n",
    "            id\n",
    "          }\n",
    "        }\n",
    "        funders: fundingReferences {\n",
    "          id: funderIdentifier\n",
    "          funderIdentifierType\n",
    "          name: funderName\n",
    "        }\n",
    "        people: creators {\n",
    "          id\n",
    "          name\n",
    "          affiliation {\n",
    "            id\n",
    "          }\n",
    "        }\n",
    "      }\n",
    "    }\n",
    "  }\n",
    "}\n",
    "\"\"\")\n",
    "\n",
    "repositoryQuery = gql(\"\"\"query getOutputs($repositoryId: ID!)\n",
    "{\n",
    "  repository(id: $repositoryId) {\n",
    "    name\n",
    "    dataManagementPlans {\n",
    "      totalCount\n",
    "      nodes {\n",
    "        id\n",
    "        title: titles(first: 1) {\n",
    "          title\n",
    "        }\n",
    "        datasets: references(resourceTypeId: \"dataset\") {\n",
    "          totalCount\n",
    "          nodes {\n",
    "            id: doi\n",
    "            name: titles(first: 1) {\n",
    "              title\n",
    "            }\n",
    "          }\n",
    "        }\n",
    "        organisations: contributors(contributorType: \"HostingInstitution\") {\n",
    "          id\n",
    "          name\n",
    "          affiliation {\n",
    "            id\n",
    "          }\n",
    "        }\n",
    "        funders: fundingReferences {\n",
    "          id: funderIdentifier\n",
    "          funderIdentifierType\n",
    "          name: funderName\n",
    "        }\n",
    "        people: creators {\n",
    "          id\n",
    "          name\n",
    "          affiliation {\n",
    "            id\n",
    "          }\n",
    "        }\n",
    "      }\n",
    "    }\n",
    "  }\n",
    "}\n",
    "\"\"\")\n",
    " "
   ]
  },
  {
   "cell_type": "code",
   "execution_count": 158,
   "metadata": {},
   "outputs": [],
   "source": [
    "def get_data(type):\n",
    "    if type == \"organization\":\n",
    "        return client.execute(organizationQuery, variable_values=json.dumps(query_params))[\"organization\"][\"dataManagementPlans\"][\"nodes\"]\n",
    "    elif type == \"funder\":\n",
    "        return client.execute(funderQuery, variable_values=json.dumps(query_params))[\"funder\"][\"dataManagementPlans\"][\"nodes\"]\n",
    "    else:\n",
    "        return client.execute(repositoryQuery, variable_values=json.dumps(query_params))[\"repository\"][\"dataManagementPlans\"][\"nodes\"]\n"
   ]
  },
  {
   "cell_type": "markdown",
   "metadata": {},
   "source": [
    "## Data Transformation\n",
    "\n",
    "Simple transformations are performed to convert the graphql response into an array that can be used.."
   ]
  },
  {
   "cell_type": "code",
   "execution_count": 160,
   "metadata": {},
   "outputs": [],
   "source": [
    "def get_series_size(series_element):\n",
    "    return len(series_element)"
   ]
  },
  {
   "cell_type": "code",
   "execution_count": 162,
   "metadata": {},
   "outputs": [],
   "source": [
    "def get_dataset_nodes(series_element):\n",
    "    return series_element['nodes']"
   ]
  },
  {
   "cell_type": "code",
   "execution_count": 164,
   "metadata": {},
   "outputs": [],
   "source": [
    "def get_title(series_element):\n",
    "    return series_element[0]['title']"
   ]
  },
  {
   "cell_type": "code",
   "execution_count": 166,
   "metadata": {},
   "outputs": [],
   "source": [
    "def transform_dmps(dataframe):\n",
    "    \"\"\"Modifies each item to include attributes needed for the node visulisation\n",
    "\n",
    "    Parameters:\n",
    "    dataframe (dataframe): A dataframe with all the itemss\n",
    "    parent (int): The id of the parent node\n",
    "\n",
    "    Returns:\n",
    "    dataframe:Returning vthe same dataframe with new attributes\n",
    "\n",
    "   \"\"\"\n",
    "    if (dataframe) is None:\n",
    "        return pd.DataFrame() \n",
    "    else: \n",
    "        dataframe = (dataframe >>\n",
    "        mutate(\n",
    "            datasets = X.datasets.apply(get_dataset_nodes)\n",
    "        ))\n",
    "\n",
    "        return (dataframe >>\n",
    "        mutate(\n",
    "            id = X.id,\n",
    "            title = X.title.apply(get_title),\n",
    "            datasets = X.datasets.apply(get_series_size),\n",
    "            organisations = X.organisations.apply(get_series_size),\n",
    "            funders = X.funders.apply(get_series_size),\n",
    "            people = X.people.apply(get_series_size)\n",
    "        ))\n",
    "  "
   ]
  },
  {
   "cell_type": "code",
   "execution_count": 177,
   "metadata": {},
   "outputs": [],
   "source": [
    "def processTable(type):\n",
    "    data = get_data(type)\n",
    "    if len(data) == 0:\n",
    "        table = None\n",
    "    else:\n",
    "        table = pd.DataFrame(data,columns=data[0].keys())\n",
    "    return transform_dmps(table).style"
   ]
  },
  {
   "cell_type": "code",
   "execution_count": 178,
   "metadata": {
    "tags": []
   },
   "outputs": [],
   "source": [
    "organization = processTable(\"organization\")\n",
    "funder = processTable(\"funder\")\n",
    "repository = processTable(\"repository\")"
   ]
  },
  {
   "cell_type": "code",
   "execution_count": 179,
   "metadata": {},
   "outputs": [
    {
     "output_type": "execute_result",
     "data": {
      "text/plain": "<pandas.io.formats.style.Styler at 0x11eba4790>",
      "text/html": "<style  type=\"text/css\" >\n</style><table id=\"T_070dc0cc_f1df_11ea_bace_a683e7df5c7f\" ><thead>    <tr>        <th class=\"blank level0\" ></th>        <th class=\"col_heading level0 col0\" >id</th>        <th class=\"col_heading level0 col1\" >title</th>        <th class=\"col_heading level0 col2\" >datasets</th>        <th class=\"col_heading level0 col3\" >organisations</th>        <th class=\"col_heading level0 col4\" >funders</th>        <th class=\"col_heading level0 col5\" >people</th>    </tr></thead><tbody>\n                <tr>\n                        <th id=\"T_070dc0cc_f1df_11ea_bace_a683e7df5c7flevel0_row0\" class=\"row_heading level0 row0\" >0</th>\n                        <td id=\"T_070dc0cc_f1df_11ea_bace_a683e7df5c7frow0_col0\" class=\"data row0 col0\" >https://handle.test.datacite.org/10.4124/test/.879w8</td>\n                        <td id=\"T_070dc0cc_f1df_11ea_bace_a683e7df5c7frow0_col1\" class=\"data row0 col1\" >UEL Data Management Plan template</td>\n                        <td id=\"T_070dc0cc_f1df_11ea_bace_a683e7df5c7frow0_col2\" class=\"data row0 col2\" >0</td>\n                        <td id=\"T_070dc0cc_f1df_11ea_bace_a683e7df5c7frow0_col3\" class=\"data row0 col3\" >0</td>\n                        <td id=\"T_070dc0cc_f1df_11ea_bace_a683e7df5c7frow0_col4\" class=\"data row0 col4\" >1</td>\n                        <td id=\"T_070dc0cc_f1df_11ea_bace_a683e7df5c7frow0_col5\" class=\"data row0 col5\" >1</td>\n            </tr>\n    </tbody></table>"
     },
     "metadata": {},
     "execution_count": 179
    }
   ],
   "source": [
    "organization"
   ]
  },
  {
   "cell_type": "code",
   "execution_count": 180,
   "metadata": {},
   "outputs": [
    {
     "output_type": "execute_result",
     "data": {
      "text/plain": "<pandas.io.formats.style.Styler at 0x11da60640>",
      "text/html": "<style  type=\"text/css\" >\n</style><table id=\"T_072c5d34_f1df_11ea_bace_a683e7df5c7f\" ><thead></thead><tbody>\n        </tbody></table>"
     },
     "metadata": {},
     "execution_count": 180
    }
   ],
   "source": [
    "funder"
   ]
  },
  {
   "cell_type": "code",
   "execution_count": 181,
   "metadata": {},
   "outputs": [
    {
     "output_type": "execute_result",
     "data": {
      "text/plain": "<pandas.io.formats.style.Styler at 0x11eb639a0>",
      "text/html": "<style  type=\"text/css\" >\n</style><table id=\"T_074f95e2_f1df_11ea_bace_a683e7df5c7f\" ><thead></thead><tbody>\n        </tbody></table>"
     },
     "metadata": {},
     "execution_count": 181
    }
   ],
   "source": [
    "repository"
   ]
  }
 ]
}