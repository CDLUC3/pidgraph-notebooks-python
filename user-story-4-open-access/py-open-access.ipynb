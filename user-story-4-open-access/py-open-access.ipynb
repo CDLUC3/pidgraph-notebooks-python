{
 "cells": [
  {
   "cell_type": "markdown",
   "metadata": {},
   "source": [
    " ![FREYA Logo](https://github.com/datacite/pidgraph-notebooks-python/blob/master/images/freya_200x121.png?raw=true) | [FREYA](https://www.project-freya.eu/en) WP2 [User Story 4](https://github.com/datacite/pidgraph-notebooks-python/issues/8) | As a funder I want to see how many of the research outputs funded by me have an open license enabling reuse, so that I am sure I properly support Open Science. \n",
    " :------------- | :------------- | :-------------\n",
    "\n",
    "Funders that support open research are interested in monitoring the extent of open access given to the outputs of grants they award - while the grant is active as well as retrospectively. <p />\n",
    "This notebook uses the [DataCite GraphQL API](https://api.datacite.org/graphql) to retrieve and report license types of all outputs of [FREYA grant award](https://cordis.europa.eu/project/id/777523) from [European Union](https://doi.org/10.13039/501100000780) to date.\n",
    "\n",
    "**Goal**: By the end of this notebook you should be able to:\n",
    "- Retrieve all outputs of a grant award from a specific funder; \n",
    "- Plot a pie chart of the number of outputs per license type;\n",
    "- Plot an interactive bar plot showing the proportion of outputs of a given type issued under a given license type."
   ]
  },
  {
   "cell_type": "markdown",
   "metadata": {},
   "source": [
    "## Install libraries and prepare GraphQL client"
   ]
  },
  {
   "cell_type": "code",
   "execution_count": null,
   "metadata": {},
   "outputs": [],
   "source": [
    "%%capture\n",
    "# Install required Python packages\n",
    "!pip install gql requests chord numpy"
   ]
  },
  {
   "cell_type": "code",
   "execution_count": null,
   "metadata": {},
   "outputs": [],
   "source": [
    "# Prepare the GraphQL client\n",
    "import requests\n",
    "from IPython.display import display, Markdown\n",
    "from gql import gql, Client\n",
    "from gql.transport.requests import RequestsHTTPTransport\n",
    "\n",
    "_transport = RequestsHTTPTransport(\n",
    "    url='https://api.datacite.org/graphql',\n",
    "    use_json=True,\n",
    ")\n",
    "\n",
    "client = Client(\n",
    "    transport=_transport,\n",
    "    fetch_schema_from_transport=True,\n",
    ")"
   ]
  },
  {
   "cell_type": "markdown",
   "metadata": {},
   "source": [
    "## Define and run GraphQL query\n",
    "Define the GraphQL query to find all outputs of [FREYA grant award](https://cordis.europa.eu/project/id/777523) from [European Union](https://doi.org/10.13039/501100000780) to date."
   ]
  },
  {
   "cell_type": "code",
   "execution_count": null,
   "metadata": {},
   "outputs": [],
   "source": [
    "# Generate the GraphQL query: find all outputs of FREYA grant award (https://cordis.europa.eu/project/id/777523) from funder (EU) to date, \n",
    "# including license type (a.k.a. rights)\n",
    "query_params = {\n",
    "    \"funderId\" : \"https://doi.org/10.13039/501100000780\",\n",
    "    \"funderAwardQuery\" : \"fundingReferences.awardNumber:777523\",\n",
    "    \"maxWorks\" : 200\n",
    "}\n",
    "\n",
    "query = gql(\"\"\"query getGrantOutputsForFunderAndAward($funderId: ID!, $funderAwardQuery: String!, $maxWorks: Int!)\n",
    "{\n",
    "funder(id: $funderId) {\n",
    "  name\n",
    "  works(query: $funderAwardQuery, first: $maxWorks) {\n",
    "      totalCount\n",
    "      nodes {\n",
    "        id\n",
    "\n",
    "        titles {\n",
    "          title\n",
    "        }      \n",
    "        types {\n",
    "          resourceType\n",
    "        }\n",
    "        dates {\n",
    "          date\n",
    "          dateType\n",
    "        }\n",
    "        versionOfCount\n",
    "        rights {\n",
    "          rights\n",
    "          rightsIdentifier\n",
    "          rightsUri\n",
    "        }\n",
    "        fundingReferences {\n",
    "          funderIdentifier\n",
    "          funderName\n",
    "          awardNumber\n",
    "          awardTitle\n",
    "        }\n",
    "        citationCount\n",
    "        viewCount\n",
    "        downloadCount\n",
    "      }\n",
    "    }\n",
    "  }\n",
    "}\n",
    "\"\"\")"
   ]
  },
  {
   "cell_type": "markdown",
   "metadata": {},
   "source": [
    "Run the above query via the GraphQL client"
   ]
  },
  {
   "cell_type": "code",
   "execution_count": null,
   "metadata": {},
   "outputs": [],
   "source": [
    "import json\n",
    "data = client.execute(query, variable_values=json.dumps(query_params))"
   ]
  },
  {
   "cell_type": "markdown",
   "metadata": {},
   "source": [
    "## Display total number of works \n",
    "Display the total number of [FREYA grant award](https://cordis.europa.eu/project/id/777523) outputs to date."
   ]
  },
  {
   "cell_type": "code",
   "execution_count": null,
   "metadata": {},
   "outputs": [],
   "source": [
    "# Get the total number of outputs to date\n",
    "funder = data['funder']\n",
    "display(Markdown(str(funder['works']['totalCount'])))"
   ]
  },
  {
   "cell_type": "markdown",
   "metadata": {},
   "source": [
    "## Plot number of outputs per license type\n",
    "Plot as a pie chart the number of [FREYA grant award](https://cordis.europa.eu/project/id/777523) outputs per license type."
   ]
  },
  {
   "cell_type": "code",
   "execution_count": null,
   "metadata": {},
   "outputs": [],
   "source": [
    "# Plot as a pie chart the number of outputs per license type\n",
    "import matplotlib.pyplot as plt\n",
    "from matplotlib.ticker import FormatStrFormatter\n",
    "import numpy as np\n",
    "import operator\n",
    "\n",
    "xstr = lambda s: 'General' if s is None else str(s)\n",
    "xstr1 = lambda s: 'Not available' if s is None else str(s)\n",
    "\n",
    "plt.rcdefaults()\n",
    "\n",
    "# Retrieve works counts by resource type from nodes\n",
    "funder = data['funder']\n",
    "awardTitle = None\n",
    "\n",
    "right2NumOutputs = {}\n",
    "resourceType2NumOutputs = {}\n",
    "\n",
    "for r in funder['works']['nodes']:\n",
    "    resourceType = xstr(r['types']['resourceType'])\n",
    "    if r['versionOfCount'] > 0:\n",
    "        # If the current output is a version of another one, exclude it\n",
    "        continue\n",
    "    if not awardTitle:\n",
    "        awardTitle = r['fundingReferences'][0]['awardTitle'] \n",
    "    if resourceType not in resourceType2NumOutputs:\n",
    "        resourceType2NumOutputs[resourceType] = 0\n",
    "    resourceType2NumOutputs[resourceType] += 1\n",
    "    if not r['rights']:\n",
    "        r['rights'].append({'rights': 'Not available'})\n",
    "    for rights in r['rights']:\n",
    "        right = xstr1(rights['rights'])\n",
    "        if right not in right2NumOutputs:\n",
    "            right2NumOutputs[right] = 0\n",
    "        right2NumOutputs[right] += 1;\n",
    "    \n",
    "# Sort resource types by count of work desc\n",
    "sorted_num_outputs = sorted(right2NumOutputs.items(),key=operator.itemgetter(1),reverse=True)\n",
    "# Populate lists needed for pie chart\n",
    "resource_types = [s[0] for s in sorted_num_outputs] \n",
    "num_outputs = [s[1] for s in sorted_num_outputs] \n",
    "\n",
    "# Generate a pie chart of number of grant outputs by resource type\n",
    "fig = plt.figure()\n",
    "ax = fig.add_axes([0,0,1,1])\n",
    "ax.set_title('Number of Grant Outputs per License Type')\n",
    "ax.axis('equal')\n",
    "ax.pie(num_outputs, labels = resource_types,autopct='%1.2f%%')\n",
    "plt.show()"
   ]
  },
  {
   "cell_type": "markdown",
   "metadata": {},
   "source": [
    "## Plot license type counts per resources type\n",
    "Plot stacked bar plot showing how <ins>each type</ins> of [FREYA grant award](https://cordis.europa.eu/project/id/777523) outputs contributes their license type counts to the corresponding aggregated total.\n"
   ]
  },
  {
   "cell_type": "code",
   "execution_count": null,
   "metadata": {},
   "outputs": [],
   "source": [
    "import plotly.io as pio\n",
    "import plotly.express as px\n",
    "from IPython.display import IFrame\n",
    "import pandas as pd\n",
    "from operator import itemgetter\n",
    "\n",
    "xstr = lambda s: 'General' if s is None else str(s)\n",
    "xstr1 = lambda s: 'Not available' if s is None else str(s)\n",
    "\n",
    "# Adapted from: https://stackoverflow.com/questions/58766305/is-there-any-way-to-implement-stacked-or-grouped-bar-charts-in-plotly-express\n",
    "def px_stacked_bar(df, color_name='License Type', y_name='Metrics', **pxargs):\n",
    "    idx_col = df.index.name\n",
    "    m = pd.melt(df.reset_index(), id_vars=idx_col, var_name=color_name, value_name=y_name)\n",
    "    # For Plotly colour sequences see: https://plotly.com/python/discrete-color/     \n",
    "    return px.bar(m, x=idx_col, y=y_name, color=color_name, **pxargs, \n",
    "                  color_discrete_sequence=px.colors.qualitative.Pastel1)\n",
    " \n",
    "# Collect metric counts\n",
    "funder = data['funder']\n",
    "funderName = funder['name']\n",
    "\n",
    "# Initialise dicts for the stacked bar plot\n",
    "labels = {0: 'All Output Types'}\n",
    "\n",
    "# Map each license type to a dict in turn mapping the position of the output's bar in plot \n",
    "# to the count of outputs corresponding to that license type\n",
    "licenseType2Pos2Count = {}\n",
    "\n",
    "# Collect output type labels and assign bar positions in plot\n",
    "outputType2Pos = {}\n",
    "pos = 1\n",
    "for outputType, num in sorted(resourceType2NumOutputs.items(), key = itemgetter(1), reverse = True):\n",
    "    labels[pos] = outputType\n",
    "    outputType2Pos[outputType] = pos\n",
    "    pos += 1\n",
    "    \n",
    "# Populate license type counts per output type (key = i) and add them to the aggregated counts (key: 0)\n",
    "for node in funder['works']['nodes']:\n",
    "    if node['versionOfCount'] > 0:\n",
    "        # If the current output is a version of another one, exclude it\n",
    "        continue       \n",
    "    resource_type = xstr(node['types']['resourceType'])\n",
    "    pos = outputType2Pos[resource_type]\n",
    "    if len(node['rights']) == 0:\n",
    "        node['rights'].append({'rights': 'Not available'})\n",
    "    for rights in node['rights']:\n",
    "        right = xstr1(rights['rights'])\n",
    "        if right not in licenseType2Pos2Count:\n",
    "            licenseType2Pos2Count[right] = {}\n",
    "            for pos1, _ in enumerate(labels):\n",
    "                # Initialise right's counts for each output type\n",
    "                licenseType2Pos2Count[right][pos1] = 0\n",
    "        licenseType2Pos2Count[right][0] += 1 \n",
    "        licenseType2Pos2Count[right][pos] += 1\n",
    "        \n",
    "# Create stacked bar plot\n",
    "x_name = \"Output Types (sorted by number of outputs)\"\n",
    "dfDict = {x_name: labels}\n",
    "\n",
    "for right in licenseType2Pos2Count:\n",
    "    dfDict[right] = licenseType2Pos2Count[right]\n",
    "\n",
    "df = pd.DataFrame(dfDict)\n",
    "fig = px_stacked_bar(df.set_index(x_name), y_name = \"Output Counts\")\n",
    "\n",
    "# Set plot background to transparent\n",
    "fig.update_layout({\n",
    "'plot_bgcolor': 'rgba(0, 0, 0, 0)',\n",
    "'paper_bgcolor': 'rgba(0, 0, 0, 0)'\n",
    "})\n",
    "\n",
    "# Write interactive plot out to html file\n",
    "pio.write_html(fig, file='out.html')\n",
    "\n",
    "# Display plot from the saved html file\n",
    "display(Markdown(\"License Types of %s's [FREYA grant award](https://cordis.europa.eu/project/id/777523) outputs, shown per output type as a stacked bar plot:\" % funderName))\n",
    "IFrame(src=\"./out.html\", width=500, height=500)"
   ]
  },
  {
   "cell_type": "code",
   "execution_count": null,
   "metadata": {},
   "outputs": [],
   "source": []
  }
 ],
 "metadata": {
  "kernelspec": {
   "display_name": "Python 3",
   "language": "python",
   "name": "python3"
  },
  "language_info": {
   "codemirror_mode": {
    "name": "ipython",
    "version": 3
   },
   "file_extension": ".py",
   "mimetype": "text/x-python",
   "name": "python",
   "nbconvert_exporter": "python",
   "pygments_lexer": "ipython3",
   "version": "3.6.1"
  }
 },
 "nbformat": 4,
 "nbformat_minor": 4
}
