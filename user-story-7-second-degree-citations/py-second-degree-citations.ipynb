{
 "cells": [
  {
   "cell_type": "markdown",
   "metadata": {},
   "source": [
    "![FREYA Logo](https://github.com/datacite/pidgraph-notebooks-python/blob/master/images/freya_200x121.png?raw=true) | [FREYA](https://www.project-freya.eu/en) | WP2 [User Story 7]( https://www.pidforum.org/t/pid-graph-graphql-example-second-degree-citations/939): As a data center, I want to see the citations of publications that use my repository for the underlying data, so that I can demonstrate the impact of our repository.\n",
    ":------------- | :------------- | :-------------\n",
    "\n",
    "It is important for repositories of scientific data to monitor and report on the impact of the data they store. One useful proxy of that impact are secondary citations, i.e. citations of publications which use the deposited data. This notebook focuses on visualisation of these citations by means of a force-directed graph.<p />\n",
    "This notebook uses the [DataCite GraphQL API](https://api.datacite.org/graphql) to retrieve the citations of the following different datasets: \n",
    "- [Effects of varying food-availability on ecology and distribution of smallest benthic organisms in sediments of the arctic Fram Strait during POLARSTERN cruise ARK-XV/2, supplement to: Schewe, Ingo; Soltwedel, Thomas (2003): Benthic response to ice-edge-induced particle flux in the Arctic Ocean. Polar Biology, 26(9), 610-620](https://doi.org/10.1594/pangaea.314690);\n",
    "- [Data from: Towards a worldwide wood economics spectrum](https://doi.org/10.5061/dryad.234); and\n",
    "- [rmca-albertine-rift-cichlids](https://doi.org/10.15468/n6ftyd).\n",
    "\n",
    "**Goal**: By the end of this notebook, for a given list of datasets, you should be able to display:\n",
    "- Total citation count for each retrieved dataset;\n",
    "- An interactive force-directed graph of the datasets and their citations, in which:\n",
    " - Each node at the centre of each radial shape corresponds to a dataset;\n",
    " - Vertices correspond to citations (note that some citations may be shared by more than one dataset);\n",
    " - The **more edges** come out of a (dataset or citation) node, the closer to **red** its colour becomes;\n",
    " - The width of each edge reflects the number of citations (second-degree) of the dataset citation (first-degree) represented by the vertex, e.g. <br><br><img src=\"example_plot.png\" width=\"500\" height=\"500\" />\"\n"
   ]
  },
  {
   "cell_type": "markdown",
   "metadata": {},
   "source": [
    "## Install libraries and prepare GraphQL client"
   ]
  },
  {
   "cell_type": "code",
   "execution_count": null,
   "metadata": {},
   "outputs": [],
   "source": [
    "%%capture\n",
    "# Install required Python packages\n",
    "!pip install gql requests pyvis"
   ]
  },
  {
   "cell_type": "code",
   "execution_count": null,
   "metadata": {},
   "outputs": [],
   "source": [
    "# Prepare the GraphQL client\n",
    "import requests\n",
    "from IPython.display import display, Markdown\n",
    "from gql import gql, Client\n",
    "from gql.transport.requests import RequestsHTTPTransport\n",
    "\n",
    "_transport = RequestsHTTPTransport(\n",
    "    url='https://api.datacite.org/graphql',\n",
    "    use_json=True,\n",
    ")\n",
    "\n",
    "client = Client(\n",
    "    transport=_transport,\n",
    "    fetch_schema_from_transport=True,\n",
    ")"
   ]
  },
  {
   "cell_type": "markdown",
   "metadata": {},
   "source": [
    "## Define and run GraphQL query\n",
    "Define the GraphQL query to find all publications including co-authors for [Dr Sarah Teichmann](https://orcid.org/0000-0002-6294-6366):"
   ]
  },
  {
   "cell_type": "code",
   "execution_count": null,
   "metadata": {},
   "outputs": [],
   "source": [
    "# Generate the GraphQL query to retrieve up to 100 researchers matching query \"John and Smith\"\n",
    "query_params = {\n",
    "    \"ids\" : [\"10.5061/dryad.234\",\"10.15468/n6ftyd\",\"10.1594/pangaea.314690\"]\n",
    "}\n",
    "\n",
    "query = gql(\"\"\"query getDatasetCitations($ids: [String!]) {\n",
    "  datasets(ids: $ids) {\n",
    "    nodes {\n",
    "      id\n",
    "      titles {\n",
    "        title\n",
    "      }\n",
    "      citationCount\n",
    "      citations {\n",
    "        nodes {\n",
    "          id\n",
    "          publisher\n",
    "          titles {\n",
    "            title\n",
    "          }\n",
    "          citationCount\n",
    "        }\n",
    "      }\n",
    "    }\n",
    "  }\n",
    "}\n",
    "\n",
    "\n",
    "\"\"\")"
   ]
  },
  {
   "cell_type": "markdown",
   "metadata": {},
   "source": [
    "Run the above query via the GraphQL client"
   ]
  },
  {
   "cell_type": "code",
   "execution_count": null,
   "metadata": {},
   "outputs": [],
   "source": [
    "import json\n",
    "data = client.execute(query, variable_values=json.dumps(query_params))"
   ]
  },
  {
   "cell_type": "markdown",
   "metadata": {},
   "source": [
    "## Display total number of citations per dataset"
   ]
  },
  {
   "cell_type": "code",
   "execution_count": null,
   "metadata": {},
   "outputs": [],
   "source": [
    "# Get total citation counts for each dataset in the query\n",
    "datasets = data['datasets']\n",
    "tableBody=\"\"\n",
    "for dataset in datasets['nodes']:\n",
    "    id = dataset['id']\n",
    "    titles = []\n",
    "    for title in dataset['titles']:\n",
    "        titles.append(title['title'])\n",
    "    citationCount = dataset['citationCount']\n",
    "    tableBody += \"[%s](%s) | **%s**\\n\" % (', '.join(titles), id, citationCount)\n",
    "if tableBody:\n",
    "    display(Markdown(\"| Dataset | Citation Count|\\n|---|---|\\n%s\" % tableBody))  "
   ]
  },
  {
   "cell_type": "markdown",
   "metadata": {},
   "source": [
    "## Plot a force-directed graph connecting datasets to their publications and citations of those publications\n",
    "Plot an interactive force-directed graph of connecting the datasets to their citations (first-degree) and the citations of those citations (second-degree).\n",
    " - Each node at the centre of each radial shape corresponds to a dataset;\n",
    " - Vertices correspond to citations (note that some citations may be shared by more than one dataset);\n",
    " - The **more edges** come out of a (dataset or citation) node, the closer to **red** its colour becomes;\n",
    " - The width of each edge reflects the number of citations (second-degree) of the dataset citation (first-degree) represented by the vertex."
   ]
  },
  {
   "cell_type": "code",
   "execution_count": null,
   "metadata": {},
   "outputs": [],
   "source": [
    "from pyvis.network import Network\n",
    "import pandas as pd\n",
    "from IPython.display import IFrame\n",
    "\n",
    "# Colour swatch for the network nodes\n",
    "colours = [\"#00ffff\", \"#8000ff\", \"#bf00ff\", \"#ff00ff\", \"#ff00bf\", \"#ff0080\", \"#ff0040\", \"#ff0000\"]\n",
    "\n",
    "got_net = Network(height=\"750px\", width=\"100%\", bgcolor=\"#222222\", font_color=\"white\")\n",
    "got_net.options.edges.inherit_colors(False)\n",
    "\n",
    "# set the physics layout of the network\n",
    "got_net.barnes_hut()\n",
    "\n",
    "# ------------------------------\n",
    "# Initialise intermediate data structure to store: (src, trg) -> citation count of the target, where:\n",
    "# src - dataset or citation; trg - citation\n",
    "srcTrg2Count = {}\n",
    "# Initialise intermediate data structure to store: src --> Set of connected trg's\n",
    "# Note that the number of connected trgs will determine the colour of each src\n",
    "src2OtherTrgs = {}\n",
    "\n",
    "datasets = data['datasets']\n",
    "\n",
    "# Populate srcTrg2Count\n",
    "allNodes = set()\n",
    "for node in datasets['nodes']:\n",
    "    nodeSet = set()\n",
    "    datasetDOI = \"/\".join(node['id'].split(\"/\")[3:])\n",
    "    nodeSet.add(datasetDOI)\n",
    "    for citation in node['citations']['nodes']:\n",
    "        citationDOI = \"/\".join(citation['id'].split(\"/\")[3:])\n",
    "        # We're adding 1 below to make edges representing 0 citations of the target appear in the force-directed graph   \n",
    "        citationCount = citation['citationCount'] + 1\n",
    "        nodeSet.add(citationDOI)\n",
    "        if datasetDOI not in src2OtherTrgs:\n",
    "            src2OtherTrgs[datasetDOI] = set()\n",
    "        src2OtherTrgs[datasetDOI].add(citationDOI)\n",
    "        if citationDOI not in src2OtherTrgs:\n",
    "            src2OtherTrgs[citationDOI] = set()   \n",
    "        src2OtherTrgs[citationDOI].add(datasetDOI)        \n",
    "        srcTrg2Count[(datasetDOI, citationDOI)] = citationCount     \n",
    "    nodes = sorted(list(nodeSet))\n",
    "    allNodes.update(nodes)\n",
    "\n",
    "# Populate data structures needed for the graph\n",
    "sources, targets, weights = [], [], []\n",
    "for tuple in srcTrg2Count:\n",
    "    if srcTrg2Count[tuple] > 0:\n",
    "        sources.append(tuple[0])\n",
    "        targets.append(tuple[1])\n",
    "        weights.append(srcTrg2Count[tuple])\n",
    "\n",
    "edge_data = zip(sources, targets, weights)\n",
    "\n",
    "# Parameters used to determine node colours - the more edges come out of the node, the closer to red its colour becomes\n",
    "max_len = len(allNodes)\n",
    "num_colours = len(colours)\n",
    "div = max_len/num_colours/3\n",
    "\n",
    "for e in edge_data:\n",
    "    src = e[0]\n",
    "    dst = e[1]\n",
    "    w = e[2]\n",
    "    colour_index = min(int(len(src2OtherTrgs[src])/div), num_colours - 1)\n",
    "    got_net.add_node(src, src, title=src, color = colours[colour_index])   \n",
    "    colour_index = min(int(len(src2OtherTrgs[dst])/div), num_colours - 1)\n",
    "    got_net.add_node(dst, dst, title=dst, color = colours[colour_index])\n",
    "    got_net.add_edge(src, dst, value=w)\n",
    "\n",
    "neighbor_map = got_net.get_adj_list()\n",
    "\n",
    "# add neighbor data to node hover data\n",
    "for node in got_net.nodes:\n",
    "    node[\"title\"] += \" Neighbors:<br>\" + \"<br>\".join(neighbor_map[node[\"id\"]])\n",
    "    node[\"value\"] = len(neighbor_map[node[\"id\"]])\n",
    "\n",
    "got_net.show(\"out.html\")\n",
    "display(Markdown(\"N.B. Click on the plot, then use down/up mouse scroll to zoom in/out respectively.<br>When zoomed in, you will notice the DOI label against each node.<br>Click on a node to see the list of 'neighbour' citations.\"))\n",
    "IFrame(src=\"./out.html\", width=1000, height=800)"
   ]
  }
 ],
 "metadata": {
  "kernelspec": {
   "display_name": "Python 3",
   "language": "python",
   "name": "python3"
  },
  "language_info": {
   "codemirror_mode": {
    "name": "ipython",
    "version": 3
   },
   "file_extension": ".py",
   "mimetype": "text/x-python",
   "name": "python",
   "nbconvert_exporter": "python",
   "pygments_lexer": "ipython3",
   "version": "3.6.1"
  }
 },
 "nbformat": 4,
 "nbformat_minor": 4
}
